{
 "cells": [
  {
   "cell_type": "markdown",
   "id": "2dedd5cb",
   "metadata": {},
   "source": [
    "NOMBRE: RAQUEL ZUMBA"
   ]
  },
  {
   "cell_type": "markdown",
   "id": "88b63181c563a666",
   "metadata": {},
   "source": [
    "# Web Scraping Exercise\n",
    "\n",
    "## 1. Introduction and Planning\n",
    "\n",
    "### Objective:\n",
    "The goal of this exercise is to build a web scraper that collects data from a chosen website. You will learn how to send HTTP requests, parse HTML content, extract relevant data, and store it in a structured format.\n",
    "\n",
    "### Tasks:\n",
    "1. Identify the data you want to scrape.\n",
    "2. Choose the target website(s).\n",
    "3. Plan the structure of your project.\n",
    "\n",
    "### Example:\n",
    "For this exercise, we will scrape job listings from Indeed.com. We will extract job titles, company names, locations, and job descriptions."
   ]
  },
  {
   "cell_type": "markdown",
   "id": "477cce632174e459",
   "metadata": {},
   "source": [
    "## 2. Understanding the Target Website\n",
    "### Objective:\n",
    "\n",
    "Analyze the structure of the web pages to be scraped.\n",
    "### Tasks:\n",
    "\n",
    "* Inspect the target website using browser developer tools.\n",
    "* Identify the HTML elements that contain the desired data.\n",
    "\n",
    "### Instructions:\n",
    "\n",
    "* Open your browser and navigate to the target website (e.g., allrecipes.com).\n",
    "* Right-click on the webpage and select \"Inspect\" or press Ctrl+Shift+I.\n",
    "* Use the developer tools to explore the HTML structure of the webpage.\n",
    "* Identify the tags and classes of the elements that contain the job titles, company names, locations, and descriptions."
   ]
  },
  {
   "cell_type": "markdown",
   "id": "393d4bc45393e6b5",
   "metadata": {},
   "source": [
    "## 3. Writing the Scraper\n",
    "### Objective:\n",
    "\n",
    "Develop the code to scrape data from the target website.\n",
    "### Tasks:\n",
    "\n",
    "* Send HTTP requests to the target website.\n",
    "* Parse the HTML content and extract the required data.\n",
    "* Handle pagination to scrape data from multiple pages.\n",
    "* Implement error handling."
   ]
  },
  {
   "cell_type": "markdown",
   "id": "d776ee06-99e5-4af2-a260-9363132be28f",
   "metadata": {},
   "source": [
    "### Importacion de librerias"
   ]
  },
  {
   "cell_type": "code",
   "execution_count": 2,
   "id": "574f5c62340afb7f",
   "metadata": {},
   "outputs": [],
   "source": [
    "from selenium import webdriver\n",
    "from selenium.webdriver.chrome.service import Service\n",
    "from selenium.webdriver.common.by import By\n",
    "from selenium.webdriver.chrome.options import Options\n",
    "from bs4 import BeautifulSoup\n",
    "import time"
   ]
  },
  {
   "cell_type": "code",
   "execution_count": 1,
   "id": "f689c01d",
   "metadata": {},
   "outputs": [
    {
     "name": "stdout",
     "output_type": "stream",
     "text": [
      "Collecting seleniumNote: you may need to restart the kernel to use updated packages.\n"
     ]
    },
    {
     "name": "stderr",
     "output_type": "stream",
     "text": [
      "\n",
      "[notice] A new release of pip is available: 24.1.1 -> 24.1.2\n",
      "[notice] To update, run: python.exe -m pip install --upgrade pip\n"
     ]
    },
    {
     "name": "stdout",
     "output_type": "stream",
     "text": [
      "\n",
      "  Downloading selenium-4.23.0-py3-none-any.whl.metadata (7.1 kB)\n",
      "Requirement already satisfied: urllib3<3,>=1.26 in c:\\users\\dell\\anaconda3\\lib\\site-packages (from urllib3[socks]<3,>=1.26->selenium) (2.0.7)\n",
      "Collecting trio~=0.17 (from selenium)\n",
      "  Downloading trio-0.26.0-py3-none-any.whl.metadata (8.8 kB)\n",
      "Collecting trio-websocket~=0.9 (from selenium)\n",
      "  Downloading trio_websocket-0.11.1-py3-none-any.whl.metadata (4.7 kB)\n",
      "Requirement already satisfied: certifi>=2021.10.8 in c:\\users\\dell\\anaconda3\\lib\\site-packages (from selenium) (2024.2.2)\n",
      "Requirement already satisfied: typing_extensions~=4.9.0 in c:\\users\\dell\\anaconda3\\lib\\site-packages (from selenium) (4.9.0)\n",
      "Collecting websocket-client==1.8.0 (from selenium)\n",
      "  Downloading websocket_client-1.8.0-py3-none-any.whl.metadata (8.0 kB)\n",
      "Collecting attrs>=23.2.0 (from trio~=0.17->selenium)\n",
      "  Downloading attrs-23.2.0-py3-none-any.whl.metadata (9.5 kB)\n",
      "Requirement already satisfied: sortedcontainers in c:\\users\\dell\\anaconda3\\lib\\site-packages (from trio~=0.17->selenium) (2.4.0)\n",
      "Requirement already satisfied: idna in c:\\users\\dell\\anaconda3\\lib\\site-packages (from trio~=0.17->selenium) (3.4)\n",
      "Collecting outcome (from trio~=0.17->selenium)\n",
      "  Downloading outcome-1.3.0.post0-py2.py3-none-any.whl.metadata (2.6 kB)\n",
      "Requirement already satisfied: sniffio>=1.3.0 in c:\\users\\dell\\anaconda3\\lib\\site-packages (from trio~=0.17->selenium) (1.3.0)\n",
      "Requirement already satisfied: cffi>=1.14 in c:\\users\\dell\\anaconda3\\lib\\site-packages (from trio~=0.17->selenium) (1.16.0)\n",
      "Collecting wsproto>=0.14 (from trio-websocket~=0.9->selenium)\n",
      "  Downloading wsproto-1.2.0-py3-none-any.whl.metadata (5.6 kB)\n",
      "Requirement already satisfied: pysocks!=1.5.7,<2.0,>=1.5.6 in c:\\users\\dell\\anaconda3\\lib\\site-packages (from urllib3[socks]<3,>=1.26->selenium) (1.7.1)\n",
      "Requirement already satisfied: pycparser in c:\\users\\dell\\anaconda3\\lib\\site-packages (from cffi>=1.14->trio~=0.17->selenium) (2.21)\n",
      "Collecting h11<1,>=0.9.0 (from wsproto>=0.14->trio-websocket~=0.9->selenium)\n",
      "  Downloading h11-0.14.0-py3-none-any.whl.metadata (8.2 kB)\n",
      "Downloading selenium-4.23.0-py3-none-any.whl (9.4 MB)\n",
      "   ---------------------------------------- 0.0/9.4 MB ? eta -:--:--\n",
      "   ---------------------------------------- 0.1/9.4 MB 1.6 MB/s eta 0:00:06\n",
      "   - -------------------------------------- 0.2/9.4 MB 3.0 MB/s eta 0:00:04\n",
      "   --- ------------------------------------ 0.8/9.4 MB 6.3 MB/s eta 0:00:02\n",
      "   ------ --------------------------------- 1.5/9.4 MB 8.5 MB/s eta 0:00:01\n",
      "   ------------ --------------------------- 2.9/9.4 MB 13.0 MB/s eta 0:00:01\n",
      "   -------------------- ------------------- 4.8/9.4 MB 18.1 MB/s eta 0:00:01\n",
      "   --------------------------- ------------ 6.6/9.4 MB 21.0 MB/s eta 0:00:01\n",
      "   ------------------------------------- -- 8.8/9.4 MB 24.4 MB/s eta 0:00:01\n",
      "   ---------------------------------------- 9.4/9.4 MB 24.1 MB/s eta 0:00:00\n",
      "Downloading websocket_client-1.8.0-py3-none-any.whl (58 kB)\n",
      "   ---------------------------------------- 0.0/58.8 kB ? eta -:--:--\n",
      "   ---------------------------------------- 58.8/58.8 kB 3.0 MB/s eta 0:00:00\n",
      "Downloading trio-0.26.0-py3-none-any.whl (475 kB)\n",
      "   ---------------------------------------- 0.0/475.7 kB ? eta -:--:--\n",
      "   ---------------------------------------- 475.7/475.7 kB 9.9 MB/s eta 0:00:00\n",
      "Downloading trio_websocket-0.11.1-py3-none-any.whl (17 kB)\n",
      "Downloading attrs-23.2.0-py3-none-any.whl (60 kB)\n",
      "   ---------------------------------------- 0.0/60.8 kB ? eta -:--:--\n",
      "   ---------------------------------------- 60.8/60.8 kB ? eta 0:00:00\n",
      "Downloading wsproto-1.2.0-py3-none-any.whl (24 kB)\n",
      "Downloading outcome-1.3.0.post0-py2.py3-none-any.whl (10 kB)\n",
      "Downloading h11-0.14.0-py3-none-any.whl (58 kB)\n",
      "   ---------------------------------------- 0.0/58.3 kB ? eta -:--:--\n",
      "   ---------------------------------------- 58.3/58.3 kB 3.0 MB/s eta 0:00:00\n",
      "Installing collected packages: websocket-client, h11, attrs, wsproto, outcome, trio, trio-websocket, selenium\n",
      "  Attempting uninstall: websocket-client\n",
      "    Found existing installation: websocket-client 0.58.0\n",
      "    Uninstalling websocket-client-0.58.0:\n",
      "      Successfully uninstalled websocket-client-0.58.0\n",
      "  Attempting uninstall: attrs\n",
      "    Found existing installation: attrs 23.1.0\n",
      "    Uninstalling attrs-23.1.0:\n",
      "      Successfully uninstalled attrs-23.1.0\n",
      "Successfully installed attrs-23.2.0 h11-0.14.0 outcome-1.3.0.post0 selenium-4.23.0 trio-0.26.0 trio-websocket-0.11.1 websocket-client-1.8.0 wsproto-1.2.0\n"
     ]
    }
   ],
   "source": [
    "%pip install selenium"
   ]
  },
  {
   "cell_type": "markdown",
   "id": "ad00deb4-b0e8-431f-9404-47d59e8efc6c",
   "metadata": {},
   "source": [
    "# 1 Send HTTP requests to the target websiteng."
   ]
  },
  {
   "cell_type": "code",
   "execution_count": 4,
   "id": "7351e341",
   "metadata": {},
   "outputs": [],
   "source": [
    "# Creamos una instancia de la clase Options, la cual nos permite configurar opciones para el navegador Chrome\n",
    "options = Options()\n",
    "# Agregamos el argumento '--headless' para que el navegador se ejecute en modo headless (sin interfaz gráfica)\n",
    "options.add_argument('--headless')\n",
    "# Agregamos el argumento '--disable-gpu' para desactivar la aceleración por GPU (Gráfica) en el navegador\n",
    "options.add_argument('--disable-gpu')"
   ]
  },
  {
   "cell_type": "markdown",
   "id": "c1c696c1-6953-4cd5-8778-c6883eb98428",
   "metadata": {},
   "source": [
    "### Especificar la ruta del ejecutable ChromeDriver"
   ]
  },
  {
   "cell_type": "code",
   "execution_count": 22,
   "id": "7a9edcf6",
   "metadata": {},
   "outputs": [],
   "source": [
    "chrome_driver_path = 'C:/Users/Dell/RI-Exercise/TASK12/chromedriver.exe'"
   ]
  },
  {
   "cell_type": "markdown",
   "id": "d49e1297-4321-437a-8800-9ddf997c4f72",
   "metadata": {},
   "source": [
    "### Crear una instancia del navegador"
   ]
  },
  {
   "cell_type": "code",
   "execution_count": 23,
   "id": "111f3af9",
   "metadata": {},
   "outputs": [],
   "source": [
    "# Crear una instancia del navegador\n",
    "service = Service(chrome_driver_path)\n",
    "driver = webdriver.Chrome(service=service, options=options)"
   ]
  },
  {
   "cell_type": "markdown",
   "id": "6a9f6e25-652e-40aa-8cf0-7c356462fd96",
   "metadata": {},
   "source": [
    "### Navegar en la pagina web"
   ]
  },
  {
   "cell_type": "code",
   "execution_count": 24,
   "id": "5eab8edf",
   "metadata": {},
   "outputs": [],
   "source": [
    "# Navegar a la página web\n",
    "url = 'https://www.allrecipes.com/recipes/'\n",
    "# Utilizamos el controlador del navegador para navegar a la URL especificada\n",
    "driver.get(url)\n",
    "# Esperar un momento para asegurarse de que la página ha cargado completamente\n",
    "time.sleep(5)"
   ]
  },
  {
   "cell_type": "markdown",
   "id": "b002c57f-ba0c-49bf-b024-6fe3d6f3b901",
   "metadata": {},
   "source": [
    "### Obtener el contenido de la página"
   ]
  },
  {
   "cell_type": "code",
   "execution_count": 25,
   "id": "da59147e",
   "metadata": {},
   "outputs": [],
   "source": [
    "# Obtener el contenido de la página\n",
    "page_source = driver.page_source\n",
    "\n",
    "# Parsear el contenido HTML de la página\n",
    "soup = BeautifulSoup(page_source, 'html.parser')\n"
   ]
  },
  {
   "cell_type": "code",
   "execution_count": 26,
   "id": "fed60de7",
   "metadata": {},
   "outputs": [],
   "source": [
    "# Encontrar las recetas en la página principal\n",
    "recipes = soup.find_all('div', class_='comp mntl-taxonomysc-article-list-group mntl-block')"
   ]
  },
  {
   "cell_type": "markdown",
   "id": "f335a178-8aed-4805-ada5-7689a8e2f72b",
   "metadata": {},
   "source": [
    "# 2 Parse the HTML content and extract the required data"
   ]
  },
  {
   "cell_type": "code",
   "execution_count": 27,
   "id": "a3033030",
   "metadata": {},
   "outputs": [],
   "source": [
    "# Guardar las recetas en un csv\n",
    "import csv    "
   ]
  },
  {
   "cell_type": "markdown",
   "id": "a756bf4f-6a06-4424-8476-4a0df2a9f67f",
   "metadata": {},
   "source": [
    "### Abrir un archivo csv donde se va a gurdar los atributos"
   ]
  },
  {
   "cell_type": "code",
   "execution_count": 28,
   "id": "87be053c",
   "metadata": {},
   "outputs": [],
   "source": [
    "# Abrimos un archivo CSV para escribir en él, especificando el modo de escritura, newline y codificación UTF-8\n",
    "with open('recipes.csv', 'w', newline='', encoding='utf-8') as file:\n",
    "    # Creamos un objeto writer para escribir en el archivo CSV\n",
    "    writer = csv.writer(file)\n",
    "    # Escribimos la fila de cabecera en el archivo CSV\n",
    "    writer.writerow(['Title', 'Description', 'Ingredients', 'Directions', 'Link'])\n",
    "    \n",
    "    # Iterar sobre las recetas y extraer la información\n",
    "    for recipe in recipes:\n",
    "        # Obtener todos los links de la receta para obtener los ingredientes\n",
    "        links = recipe.find_all('a', class_='comp mntl-card-list-items mntl-document-card mntl-card card card--no-image')\n",
    "        for link_element in links:\n",
    "            link = link_element['href']\n",
    "            \n",
    "            # Navegar a la página de cada receta\n",
    "            driver.get(link)\n",
    "            time.sleep(5)  # Esperar a que la página cargue\n",
    "\n",
    "            # Obtener el contenido de la página de la receta\n",
    "            recipe_page_source = driver.page_source\n",
    "            recipe_soup = BeautifulSoup(recipe_page_source, 'html.parser')\n",
    "\n",
    "            # Obtener el titulo de la receta\n",
    "            titles = recipe_soup.find_all('h1', class_='article-heading type--lion')\n",
    "            recipe_title = titles[0].text.strip() if titles else 'No Title'\n",
    "         \n",
    "            # Obtener la descripción de la receta\n",
    "            descriptions = recipe_soup.find_all('p', class_='article-subheading type--dog')\n",
    "            description_text = descriptions[0].text.strip() if descriptions else 'No Description'\n",
    "          \n",
    "            # Obtener los ingredientes\n",
    "            ingredients = recipe_soup.find_all('li', class_='mm-recipes-structured-ingredients__list-item')\n",
    "            ingredient_list = [ingredient.text.strip() for ingredient in ingredients]\n",
    "        \n",
    "            # Obtener las instrucciones\n",
    "            directions = recipe_soup.find_all('p', class_='comp mntl-sc-block mntl-sc-block-html')    \n",
    "            direction_list = [direction.text.strip() for direction in directions]\n",
    "            \n",
    "            # Escribir la información de la receta en el archivo CSV\n",
    "            writer.writerow([recipe_title, description_text, ingredient_list, direction_list, link])\n",
    "        \n"
   ]
  },
  {
   "cell_type": "code",
   "execution_count": 29,
   "id": "4fde387d",
   "metadata": {},
   "outputs": [],
   "source": [
    "# Cerrar el csv\n",
    "file.close()"
   ]
  },
  {
   "cell_type": "code",
   "execution_count": 30,
   "id": "dfbeb720",
   "metadata": {},
   "outputs": [],
   "source": [
    "# Cerrar el navegador\n",
    "driver.quit()"
   ]
  },
  {
   "cell_type": "markdown",
   "id": "6d20d502-302b-4876-bd25-29876e4e4a5b",
   "metadata": {},
   "source": [
    "### Leer el archivo CSV"
   ]
  },
  {
   "cell_type": "code",
   "execution_count": 31,
   "id": "d7ef25a8",
   "metadata": {},
   "outputs": [
    {
     "data": {
      "text/html": [
       "<div>\n",
       "<style scoped>\n",
       "    .dataframe tbody tr th:only-of-type {\n",
       "        vertical-align: middle;\n",
       "    }\n",
       "\n",
       "    .dataframe tbody tr th {\n",
       "        vertical-align: top;\n",
       "    }\n",
       "\n",
       "    .dataframe thead th {\n",
       "        text-align: right;\n",
       "    }\n",
       "</style>\n",
       "<table border=\"1\" class=\"dataframe\">\n",
       "  <thead>\n",
       "    <tr style=\"text-align: right;\">\n",
       "      <th></th>\n",
       "      <th>Title</th>\n",
       "      <th>Description</th>\n",
       "      <th>Ingredients</th>\n",
       "      <th>Directions</th>\n",
       "      <th>Link</th>\n",
       "    </tr>\n",
       "  </thead>\n",
       "  <tbody>\n",
       "    <tr>\n",
       "      <th>0</th>\n",
       "      <td>Ginger Chicken</td>\n",
       "      <td>Ginger chicken is a Chinese dish typically mad...</td>\n",
       "      <td>['1/4 cup packed light brown sugar', '3 tables...</td>\n",
       "      <td>['Gather all ingredients.', 'Whisk together br...</td>\n",
       "      <td>https://www.allrecipes.com/ginger-chicken-reci...</td>\n",
       "    </tr>\n",
       "    <tr>\n",
       "      <th>1</th>\n",
       "      <td>Breakfast Nachos</td>\n",
       "      <td>These breakfast nachos are a play on steak and...</td>\n",
       "      <td>['3/4 cup packed fresh cilantro leaves and ten...</td>\n",
       "      <td>['Gather all ingredients.', 'For chimichurri: ...</td>\n",
       "      <td>https://www.allrecipes.com/breakfast-nachos-re...</td>\n",
       "    </tr>\n",
       "    <tr>\n",
       "      <th>2</th>\n",
       "      <td>Spinach, Feta, and Rice Casserole</td>\n",
       "      <td>This spinach, feta, and rice casserole is a pe...</td>\n",
       "      <td>['1 cup thinly sliced scallions', '1/4 cup dra...</td>\n",
       "      <td>['Gather all ingredients. Preheat the oven to ...</td>\n",
       "      <td>https://www.allrecipes.com/spinach-feta-and-ri...</td>\n",
       "    </tr>\n",
       "    <tr>\n",
       "      <th>3</th>\n",
       "      <td>Zucchini Boats</td>\n",
       "      <td>These zucchini boats, with fork-tender zucchin...</td>\n",
       "      <td>['4 (8 ounce) zucchini', '1 teaspoon dried Ita...</td>\n",
       "      <td>['Gather the ingredients.', 'Preheat the oven ...</td>\n",
       "      <td>https://www.allrecipes.com/zucchini-boats-reci...</td>\n",
       "    </tr>\n",
       "    <tr>\n",
       "      <th>4</th>\n",
       "      <td>Crispy Cheesy Chicken Ranch Patties</td>\n",
       "      <td>These crispy cheesy chicken ranch patties, mad...</td>\n",
       "      <td>['1 1/2 pounds skinless, boneless chicken brea...</td>\n",
       "      <td>['Combine chicken, eggs, onion, parsley, mozza...</td>\n",
       "      <td>https://www.allrecipes.com/crispy-cheesy-chick...</td>\n",
       "    </tr>\n",
       "  </tbody>\n",
       "</table>\n",
       "</div>"
      ],
      "text/plain": [
       "                                 Title  \\\n",
       "0                       Ginger Chicken   \n",
       "1                     Breakfast Nachos   \n",
       "2    Spinach, Feta, and Rice Casserole   \n",
       "3                       Zucchini Boats   \n",
       "4  Crispy Cheesy Chicken Ranch Patties   \n",
       "\n",
       "                                         Description  \\\n",
       "0  Ginger chicken is a Chinese dish typically mad...   \n",
       "1  These breakfast nachos are a play on steak and...   \n",
       "2  This spinach, feta, and rice casserole is a pe...   \n",
       "3  These zucchini boats, with fork-tender zucchin...   \n",
       "4  These crispy cheesy chicken ranch patties, mad...   \n",
       "\n",
       "                                         Ingredients  \\\n",
       "0  ['1/4 cup packed light brown sugar', '3 tables...   \n",
       "1  ['3/4 cup packed fresh cilantro leaves and ten...   \n",
       "2  ['1 cup thinly sliced scallions', '1/4 cup dra...   \n",
       "3  ['4 (8 ounce) zucchini', '1 teaspoon dried Ita...   \n",
       "4  ['1 1/2 pounds skinless, boneless chicken brea...   \n",
       "\n",
       "                                          Directions  \\\n",
       "0  ['Gather all ingredients.', 'Whisk together br...   \n",
       "1  ['Gather all ingredients.', 'For chimichurri: ...   \n",
       "2  ['Gather all ingredients. Preheat the oven to ...   \n",
       "3  ['Gather the ingredients.', 'Preheat the oven ...   \n",
       "4  ['Combine chicken, eggs, onion, parsley, mozza...   \n",
       "\n",
       "                                                Link  \n",
       "0  https://www.allrecipes.com/ginger-chicken-reci...  \n",
       "1  https://www.allrecipes.com/breakfast-nachos-re...  \n",
       "2  https://www.allrecipes.com/spinach-feta-and-ri...  \n",
       "3  https://www.allrecipes.com/zucchini-boats-reci...  \n",
       "4  https://www.allrecipes.com/crispy-cheesy-chick...  "
      ]
     },
     "execution_count": 31,
     "metadata": {},
     "output_type": "execute_result"
    }
   ],
   "source": [
    "# Leer el archivo CSV\n",
    "import pandas as pd \n",
    "# leer el archivo csv\n",
    "df_recipes = pd.read_csv('recipes.csv')\n",
    "# Muestra las primeras filas del dataframe\n",
    "df_recipes.head()"
   ]
  },
  {
   "cell_type": "markdown",
   "id": "c6736a17-a0d8-49a8-87b1-4f9f4d09ff96",
   "metadata": {},
   "source": [
    "### Muestra los titulos de las recetas "
   ]
  },
  {
   "cell_type": "code",
   "execution_count": 38,
   "id": "9c1b9645-c11b-4742-a8ee-5b1da367c6ca",
   "metadata": {},
   "outputs": [
    {
     "data": {
      "text/plain": [
       "0                                        Ginger Chicken\n",
       "1                                      Breakfast Nachos\n",
       "2                     Spinach, Feta, and Rice Casserole\n",
       "3                                        Zucchini Boats\n",
       "4                   Crispy Cheesy Chicken Ranch Patties\n",
       "5                                     Peach Custard Pie\n",
       "6                                          Cajun Caviar\n",
       "7                 Creamy Mississippi Chicken Enchiladas\n",
       "8                         Grilled Watermelon Feta Pizza\n",
       "9                                    Chili Bean Chicken\n",
       "10                       Everything Bagel Roast Chicken\n",
       "11                              Country Peach Dumplings\n",
       "12                           Chocolate Chipless Cookies\n",
       "13                                  Coffee-Rubbed Steak\n",
       "14                             Bang Bang Chicken Kebabs\n",
       "15                         Shrimp and Bacon Pasta Salad\n",
       "16             Sheet Pan Halibut with Orange and Fennel\n",
       "17                                Wild Raspberry Mousse\n",
       "18                                  Gochujang BBQ Sauce\n",
       "19                                Peach Burrata Caprese\n",
       "20                                        Tuscan Salmon\n",
       "21                            Bang Bang Chicken Skewers\n",
       "22                       Cinnamon Roll Pull-Apart Toast\n",
       "23                                Copycat Chipotle Rice\n",
       "24                             Copycat Chipotle Chicken\n",
       "25                                 Smoked Whole Snapper\n",
       "26                                 Gochujang Mayonnaise\n",
       "27                                     Frito Corn Salad\n",
       "28                                        Cowboy Colada\n",
       "29                Chocolate-Glazed Hazelnut Mousse Cake\n",
       "30                                    Grilled Spaghetti\n",
       "31                   Bacon Stuffed French Toast Sliders\n",
       "32                 Easy Eggs Benedict Breakfast Sliders\n",
       "33                    Ultimate Cowboy Breakfast Sliders\n",
       "34    This Matcha Martini Will Be Your Go-to Drink o...\n",
       "35                       Peach and Blueberry Feta Salad\n",
       "36                          Copycat Costco Chicken Bake\n",
       "37                            Baked Lemon Boursin Pasta\n",
       "38    These Copycat Choco Tacos Taste Just Like the ...\n",
       "39                                   Limoncello Sunrise\n",
       "40                          Hamburger Bun Bread Pudding\n",
       "41             Feta and Spinach Stuffed Chicken Breasts\n",
       "42                          Buffalo Chicken Pizza Rolls\n",
       "43                Our 18 Favorite Peach Dessert Recipes\n",
       "44    Chef John’s 8 Most Popular Ice Cream Recipes t...\n",
       "45                    Chef John's Strawberry Semifreddo\n",
       "46                                   Lemon Coconut Cake\n",
       "47                              Chocolate Funfetti Cake\n",
       "48                                         Granola Cups\n",
       "49                     4-Ingredient Hamburger Casserole\n",
       "50                                  Salmon Caesar Salad\n",
       "51                                Couscous Chicken Soup\n",
       "52                            New York-Style Crumb Cake\n",
       "53                     Chicken Soup with Pearl Couscous\n",
       "54                       Strawberry Balsamic Pork Chops\n",
       "55                             Crustless Grilled Cheese\n",
       "56                       Easy Puff Pastry Cheese Danish\n",
       "57                           Strawberry Mousse Shooters\n",
       "58                          Million Dollar Deviled Eggs\n",
       "59                        Peach and Goat Cheese Tartine\n",
       "Name: Title, dtype: object"
      ]
     },
     "execution_count": 38,
     "metadata": {},
     "output_type": "execute_result"
    }
   ],
   "source": [
    "df = df_recipes['Title']\n",
    "df"
   ]
  },
  {
   "cell_type": "markdown",
   "id": "ccc33836-a9e1-4efb-bfb1-2f9f680d1e41",
   "metadata": {},
   "source": [
    "### Muestra las descripciones de las recetas"
   ]
  },
  {
   "cell_type": "code",
   "execution_count": 32,
   "id": "3f1bd393",
   "metadata": {},
   "outputs": [
    {
     "data": {
      "text/plain": [
       "0     Ginger chicken is a Chinese dish typically mad...\n",
       "1     These breakfast nachos are a play on steak and...\n",
       "2     This spinach, feta, and rice casserole is a pe...\n",
       "3     These zucchini boats, with fork-tender zucchin...\n",
       "4     These crispy cheesy chicken ranch patties, mad...\n",
       "5     This peach custard pie, a cross between peach ...\n",
       "6     This Cajun caviar will be your next favorite p...\n",
       "7     These creamy Mississippi chicken enchiladas ta...\n",
       "8     This grilled watermelon feta pizza is your sho...\n",
       "9     This chili bean chicken, a savory casserole of...\n",
       "10    Everything bagel seasoning is an all-purpose, ...\n",
       "11    For these country peach dumplings, we used fre...\n",
       "12                    It has the chocolate on the side.\n",
       "13    This coffee-rubbed steak uses coffee grounds i...\n",
       "14    For these bang bang chicken kebabs, combine ma...\n",
       "15    This shrimp and bacon pasta salad is a simple,...\n",
       "16    This sheet pan halibut with orange and fennel ...\n",
       "17    This wild raspberry mousse is light as air, sl...\n",
       "18    I make this gochujang BBQ sauce and use it on ...\n",
       "19    For this peach burrata caprese, grilling enhan...\n",
       "20    This Tuscan salmon takes you on a trip to cent...\n",
       "21    These bang bang chicken skewers are a little b...\n",
       "22          \"This is what cinnamon dreams are made of.\"\n",
       "23    This copycat Chipotle rice, with lemon, lime, ...\n",
       "24    This copycat Chipotle chicken begins with a fl...\n",
       "25    Who isn’t impressed with a smoked whole fish? ...\n",
       "26    This delicious gochujang mayonnaise is a simpl...\n",
       "27                                   \"It's such a hit!\"\n",
       "28    \"It's totally perfect for summer cocktails on ...\n",
       "29    This wonderfully rich, silky dessert is an ide...\n",
       "30    Grilled spaghetti is cooked directly in a very...\n",
       "31    These bacon stuffed French toast sliders make ...\n",
       "32    These easy eggs Benedict breakfast sliders mak...\n",
       "33    The ultimate cowboy breakfast sliders are made...\n",
       "34           Cool off with this creamy, vodka cocktail.\n",
       "35    This peach and blueberry feta salad is the BES...\n",
       "36    This copycat Costco chicken bake is an easier,...\n",
       "37                          Move over baked feta pasta!\n",
       "38    If Klondike won't bring back the ice cream tru...\n",
       "39    This gorgeous limoncello sunrise cocktail mimi...\n",
       "40    This hamburger bread pudding, made from stale ...\n",
       "41    These feta and spinach stuffed chicken breasts...\n",
       "42    These Buffalo chicken pizza rolls are filling ...\n",
       "43    Make the most of peach season with these top-r...\n",
       "44    Keep reading for our most-saved Chef John ice ...\n",
       "45    My lighter, no-cook adaptation of semifreddo s...\n",
       "46    This lemon coconut cake features three layers ...\n",
       "47    Sprinkles make everything more fun—and this ch...\n",
       "48    These granola cups are a great grab-and-go bre...\n",
       "49    This 4-ingredient hamburger casserole is so co...\n",
       "50    This salmon Caesar salad, with Romaine lettuce...\n",
       "51    Making this flavorful chicken couscous soup wi...\n",
       "52    New York-style crumb cake is known for its mil...\n",
       "53    This chicken soup with pearl couscous is super...\n",
       "54    These strawberry balsamic pork chops in a swee...\n",
       "55    These crustless grilled cheese sandwiches are ...\n",
       "56    These easy puff pastry cheese Danish make quic...\n",
       "57    You must make these strawberry mousse shooters...\n",
       "58    These million dollar deviled eggs have a secre...\n",
       "59    For me, this is summer on a slice of bread. Au...\n",
       "Name: Description, dtype: object"
      ]
     },
     "execution_count": 32,
     "metadata": {},
     "output_type": "execute_result"
    }
   ],
   "source": [
    "df = df_recipes['Description']\n",
    "df"
   ]
  },
  {
   "cell_type": "markdown",
   "id": "ccabe1ca-10d6-48f2-a6c4-c5644fbe68a5",
   "metadata": {},
   "source": [
    "### Muestra los ingredientes de las recetas"
   ]
  },
  {
   "cell_type": "code",
   "execution_count": 33,
   "id": "550969c4-be88-405c-afc0-3aade6b5cf7e",
   "metadata": {},
   "outputs": [
    {
     "data": {
      "text/plain": [
       "0     ['1/4 cup packed light brown sugar', '3 tables...\n",
       "1     ['3/4 cup packed fresh cilantro leaves and ten...\n",
       "2     ['1 cup thinly sliced scallions', '1/4 cup dra...\n",
       "3     ['4 (8 ounce) zucchini', '1 teaspoon dried Ita...\n",
       "4     ['1 1/2 pounds skinless, boneless chicken brea...\n",
       "5     ['1 ready-to-bake single pie crust shell', '2 ...\n",
       "6     ['6 ounces Monterey Jack cheese, shredded', '6...\n",
       "7     ['2 pounds skinless, boneless chicken breasts'...\n",
       "8     ['1/2 red onion\\xa0thinly sliced', '1/4 cup re...\n",
       "9     ['1 cup roasted tomato salsa', '1/2 cup ketchu...\n",
       "10    ['4 whole leg quarters, with skin', '1/4 cup o...\n",
       "11    ['2 large fresh peaches, halved and pitted', '...\n",
       "12    ['3/4 cup unsalted butter, at room temperature...\n",
       "13    ['1/4 cup finely ground coffee', '2 tablespoon...\n",
       "14    ['1 1/2 pounds skinless, boneless chicken brea...\n",
       "15    ['1 pound your favorite pasta', '6 slices baco...\n",
       "16    ['1 pound fennel, trimmed and cut into 1/2-inc...\n",
       "17    ['3 cups fresh black raspberries', '1/2 cup pu...\n",
       "18    ['1 tablespoon vegetable oil', '3 cloves garli...\n",
       "19    ['3 large fresh peaches, halved and pitted', '...\n",
       "20    ['4 (5 ounce) salmon filets', 'salt and freshl...\n",
       "21    ['1/2 cup mayonnaise', '1/4 cup Thai sweet chi...\n",
       "22    ['cooking spray', '1/2 cup packed dark brown s...\n",
       "23    ['1 tablespoon olive oil', '1 1/2 cups white r...\n",
       "24    ['2 pounds skinless, boneless chicken thighs',...\n",
       "25    ['2 (1 pound) whole snapper, cleaned and scale...\n",
       "26    ['1/4 cup mayonnaise', '2 tablespoons Gochujan...\n",
       "27    ['6 ears fresh\\xa0corn\\xa0with husks', '2 (9.2...\n",
       "28    ['fresh pineapple wedges', 'chili-lime seasoni...\n",
       "29    ['2 tablespoons hazelnuts, toasted and skins r...\n",
       "30    ['8 ounces thick dry spaghetti', '3 tablespoon...\n",
       "31    ['1 pound bacon', '1 (12 count) package Hawaii...\n",
       "32    ['1 (12 count) package Hawaiian rolls', '6 thi...\n",
       "33    ['1 pound ground breakfast sausage', '8 large ...\n",
       "34    ['2 ounces matcha, brewed and cooled (we sugge...\n",
       "35    ['2 cups chopped Romaine lettuce', '3 fresh pe...\n",
       "36    ['1 pound prepared pizza dough', '3 skinless, ...\n",
       "37    ['1 5.2 ounce package of Boursin Garlic & Fine...\n",
       "38    ['1/2 cup butter', '1/2 cup packed dark brown ...\n",
       "39    ['2 fluid ounces limoncello', '4 fluid ounces ...\n",
       "40    ['3 tablespoons softened butter', '8 stale bri...\n",
       "41    ['4 (8 ounce) skinless, boneless chicken breas...\n",
       "42    ['1/2 cup shredded cooked chicken', '2 ounces ...\n",
       "43                                                   []\n",
       "44                                                   []\n",
       "45    ['1 pound fresh strawberries', '½ cup white su...\n",
       "46    ['6 large egg yolks, at room temperature', '2/...\n",
       "47    ['2 cups cake flour', '1 cup unsweetened cocoa...\n",
       "48    ['1/4 cup unsalted butter', '1/2 cup pure mapl...\n",
       "49    ['8 ounces pasta', '1 pound ground beef', 'sal...\n",
       "50    ['1 (8 ounce) salmon filet', '2 teaspoons oil'...\n",
       "51    ['2 tablespoons unsalted butter', '1 onion, ch...\n",
       "52    ['4 cups cake flour', '1 cup brown sugar', '1/...\n",
       "53    ['6 cups low sodium chicken broth', '1 small o...\n",
       "54    ['2 tablespoons unsalted butter, divided', '1 ...\n",
       "55    ['8 slices white sandwich bread', '4 slices Ch...\n",
       "56    ['1 sheet frozen puff pastry, thawed', '4 ounc...\n",
       "57    ['10 ounces fresh strawberries\\xa0- trimmed, r...\n",
       "58    ['12 large hard-boiled eggs, peeled', '1/4 cup...\n",
       "59    ['2 (1 inch thick) slices French bread, toaste...\n",
       "Name: Ingredients, dtype: object"
      ]
     },
     "execution_count": 33,
     "metadata": {},
     "output_type": "execute_result"
    }
   ],
   "source": [
    "df = df_recipes['Ingredients']\n",
    "df"
   ]
  },
  {
   "cell_type": "markdown",
   "id": "7091cfd7-619c-484c-91c5-2530b415058c",
   "metadata": {},
   "source": [
    "### Muestra las direcciones de  las recetas "
   ]
  },
  {
   "cell_type": "code",
   "execution_count": 34,
   "id": "a2ad7251-e003-40d5-bb8c-39619da70d9e",
   "metadata": {},
   "outputs": [
    {
     "data": {
      "text/plain": [
       "0     ['Gather all ingredients.', 'Whisk together br...\n",
       "1     ['Gather all ingredients.', 'For chimichurri: ...\n",
       "2     ['Gather all ingredients. Preheat the oven to ...\n",
       "3     ['Gather the ingredients.', 'Preheat the oven ...\n",
       "4     ['Combine chicken, eggs, onion, parsley, mozza...\n",
       "5     ['To blind bake the crust (optional): Chill pa...\n",
       "6     ['Combine Monterey Jack cheese, Cheddar cheese...\n",
       "7     ['Place chicken, ranch dressing mix, pepperonc...\n",
       "8     ['Combine onions, vinegar, sugar, and salt in ...\n",
       "9     ['Preheat the oven to 375 degrees F (190 degre...\n",
       "10    ['Everything bagel seasoning makes it easy to ...\n",
       "11    ['Preheat the oven to 350 degrees F (175 degre...\n",
       "12    [\"I'll say it: chocolate chip cookies are way ...\n",
       "13    ['Combine coffee, brown sugar, chili powder, g...\n",
       "14    ['Combine chicken breast pieces, buttermilk, a...\n",
       "15    ['Fill a large pot with lightly salted water a...\n",
       "16    ['Preheat oven to 425 degrees F (220 degrees C...\n",
       "17    ['Place raspberries, maple syrup, lemon juice,...\n",
       "18    ['Heat oil in a skillet over medium heat. Add ...\n",
       "19    ['Heat a grill pan on the stove over medium-hi...\n",
       "20    ['Pat salmon filets dry with paper towels and ...\n",
       "21    ['For bang bang sauce, whisk mayonnaise, sweet...\n",
       "22    ['Picture layers of fluffy French bread coated...\n",
       "23    ['Heat oil in a medium saucepan over medium hi...\n",
       "24    ['Combine chicken, garlic, chipotle peppers, a...\n",
       "25    ['Heat the smoker to 350 degrees F (175 degree...\n",
       "26    ['Stir mayonnaise, gochujang sauce, lime juice...\n",
       "27    ['There’s nothing better than a salad with a l...\n",
       "28    ['This might look like your average tropical c...\n",
       "29    ['For shortbread base: Put oven rack in middle...\n",
       "30    ['Prepare an outdoor charcoal grill for medium...\n",
       "31    ['Preheat the oven to 350 degrees F (175 degre...\n",
       "32    ['Preheat the oven to 375 degrees F (190 degre...\n",
       "33    ['Preheat the oven to 375 degrees F (190 degre...\n",
       "34    ['Whether shaken or stirred; made with alcohol...\n",
       "35    ['Put chopped romaine, 2 peaches, cucumbers, a...\n",
       "36    ['Let pizza dough rest at room temperature for...\n",
       "37    [\"There's no denying it: Boursin Cheese is hav...\n",
       "38    [\"Running down the street chasing after the\\xa...\n",
       "39    ['Add ice cubes to an Old Fashioned glass. Pou...\n",
       "40    ['Butter a 9x12-inch or 9x13-inch baking dish ...\n",
       "41    ['Gather all ingredients.', 'Preheat the oven ...\n",
       "42    ['Gather all ingredients.', 'Stir chicken, moz...\n",
       "43    [\"If you love summer, then sweet, juicy peache...\n",
       "44    ['It’s hot out and if you’re like us, you’re d...\n",
       "45    ['Line 10 ramekins with plastic wrap and place...\n",
       "46    ['For lemon curd, add egg yolks, sugar, lemon ...\n",
       "47    ['Preheat the oven to 350 degrees F (175 degre...\n",
       "48    ['Place butter and maple syrup in a large bowl...\n",
       "49    ['Preheat the oven to 350 degrees F (175 degre...\n",
       "50    ['Set a nonstick skillet over medium high heat...\n",
       "51    ['Melt butter in a large stock pot over medium...\n",
       "52    ['Preheat the oven to 350 degrees F (175 degre...\n",
       "53    ['Bring chicken broth to a simmer in a pot ove...\n",
       "54    ['Melt 1 1ablespoon unsalted butter in a large...\n",
       "55    ['Spread a thin layer of butter onto 1 side of...\n",
       "56    ['Preheat the oven to 400 degrees F (200 degre...\n",
       "57    ['Add strawberries and sugar to a blender, pro...\n",
       "58    ['Slice eggs in half lengthwise. Remove egg yo...\n",
       "59    [\"Set oven rack about 6 inches from the heat s...\n",
       "Name: Directions, dtype: object"
      ]
     },
     "execution_count": 34,
     "metadata": {},
     "output_type": "execute_result"
    }
   ],
   "source": [
    "df = df_recipes['Directions']\n",
    "df"
   ]
  }
 ],
 "metadata": {
  "kernelspec": {
   "display_name": "Python 3 (ipykernel)",
   "language": "python",
   "name": "python3"
  },
  "language_info": {
   "codemirror_mode": {
    "name": "ipython",
    "version": 3
   },
   "file_extension": ".py",
   "mimetype": "text/x-python",
   "name": "python",
   "nbconvert_exporter": "python",
   "pygments_lexer": "ipython3",
   "version": "3.11.7"
  }
 },
 "nbformat": 4,
 "nbformat_minor": 5
}

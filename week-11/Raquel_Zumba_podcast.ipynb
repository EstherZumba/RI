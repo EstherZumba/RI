{
  "cells": [
    {
      "cell_type": "markdown",
      "id": "333ae546d607a744",
      "metadata": {
        "id": "333ae546d607a744"
      },
      "source": [
        "# Workshop: Building an Information Retrieval System for Podcast Episodes\n",
        "\n",
        "## Objective:\n",
        "Create an Information Retrieval (IR) system that processes a dataset of podcast transcripts and, given a query, returns the episodes where the host and guest discuss the query topic. Use TF-IDF and BERT for vector space representation and compare the results."
      ]
    },
    {
      "cell_type": "markdown",
      "id": "Hj5lLPVzpy7s",
      "metadata": {
        "id": "Hj5lLPVzpy7s"
      },
      "source": [
        "# Step 1: Import libraries\n",
        "\n"
      ]
    },
    {
      "cell_type": "code",
      "execution_count": null,
      "id": "initial_id",
      "metadata": {
        "collapsed": true,
        "id": "initial_id"
      },
      "outputs": [],
      "source": [
        "import tensorflow as tf\n",
        "import gensim.downloader as api\n",
        "from transformers import BertTokenizer, TFBertModel\n",
        "from sklearn.metrics.pairwise import cosine_similarity\n"
      ]
    },
    {
      "cell_type": "markdown",
      "id": "2d2iS-X-p4xh",
      "metadata": {
        "id": "2d2iS-X-p4xh"
      },
      "source": [
        "# STEP 2: Load the Dataset"
      ]
    },
    {
      "cell_type": "code",
      "execution_count": null,
      "id": "6mi0-SIdsHZk",
      "metadata": {
        "colab": {
          "base_uri": "https://localhost:8080/"
        },
        "id": "6mi0-SIdsHZk",
        "outputId": "1e3a8465-6984-4697-da31-a720e6b00c7b"
      },
      "outputs": [
        {
          "name": "stdout",
          "output_type": "stream",
          "text": [
            "Drive already mounted at /content/drive; to attempt to forcibly remount, call drive.mount(\"/content/drive\", force_remount=True).\n",
            "   id            guest                    title  \\\n",
            "0   1      Max Tegmark                 Life 3.0   \n",
            "1   2    Christof Koch            Consciousness   \n",
            "2   3    Steven Pinker  AI in the Age of Reason   \n",
            "3   4    Yoshua Bengio            Deep Learning   \n",
            "4   5  Vladimir Vapnik     Statistical Learning   \n",
            "\n",
            "                                                text  \n",
            "0  As part of MIT course 6S099, Artificial Genera...  \n",
            "1  As part of MIT course 6S099 on artificial gene...  \n",
            "2  You've studied the human mind, cognition, lang...  \n",
            "3  What difference between biological neural netw...  \n",
            "4  The following is a conversation with Vladimir ...  \n"
          ]
        }
      ],
      "source": [
        "from google.colab import drive\n",
        "import pandas as pd\n",
        "import string\n",
        "\n",
        "# Montar Google Drive\n",
        "drive.mount('/content/drive')\n",
        "\n",
        "# Especificar la ruta completa al archivo CSV\n",
        "file_path = '/content/drive/My Drive/Week10RI/podcastdata_dataset.csv'\n",
        "\n",
        "# Leer el archivo CSV\n",
        "df = pd.read_csv(file_path)\n",
        "\n",
        "# Mostrar las primeras filas del DataFrame\n",
        "print(df.head())\n",
        "\n",
        "# Mostrar las primeras filas"
      ]
    },
    {
      "cell_type": "code",
      "execution_count": null,
      "id": "RFqvFzdXqgRk",
      "metadata": {
        "colab": {
          "base_uri": "https://localhost:8080/"
        },
        "id": "RFqvFzdXqgRk",
        "outputId": "fe4c9c66-5a42-4621-a599-9642bcf80e2c"
      },
      "outputs": [
        {
          "name": "stdout",
          "output_type": "stream",
          "text": [
            "(319, 4)\n"
          ]
        }
      ],
      "source": [
        "print(df.shape)"
      ]
    },
    {
      "cell_type": "markdown",
      "id": "fxZHduQVwZNN",
      "metadata": {
        "id": "fxZHduQVwZNN"
      },
      "source": [
        "# Step 3: Text Preprocessing"
      ]
    },
    {
      "cell_type": "markdown",
      "id": "5_0NBU6mVB3l",
      "metadata": {
        "id": "5_0NBU6mVB3l"
      },
      "source": [
        "- Delete puntuaciones\n",
        "- Delete stop words"
      ]
    },
    {
      "cell_type": "code",
      "execution_count": null,
      "id": "QDnqSRvIu2g2",
      "metadata": {
        "colab": {
          "base_uri": "https://localhost:8080/"
        },
        "id": "QDnqSRvIu2g2",
        "outputId": "0b6e241c-8961-43b4-b560-b9caedabeaff"
      },
      "outputs": [
        {
          "name": "stdout",
          "output_type": "stream",
          "text": [
            "0    As part of MIT course 6S099, Artificial Genera...\n",
            "1    As part of MIT course 6S099 on artificial gene...\n",
            "2    You've studied the human mind, cognition, lang...\n",
            "3    What difference between biological neural netw...\n",
            "4    The following is a conversation with Vladimir ...\n",
            "Name: text, dtype: object\n"
          ]
        }
      ],
      "source": [
        "# Mostrar los textos en un  DataFrame\n",
        "corpus = df['text']\n",
        "print(corpus.head())"
      ]
    },
    {
      "cell_type": "markdown",
      "id": "Ke4wozE4eGIp",
      "metadata": {
        "id": "Ke4wozE4eGIp"
      },
      "source": [
        "### Eliminamos los caracteres especiales, y transformamos Mayusculas a minusculas"
      ]
    },
    {
      "cell_type": "code",
      "execution_count": null,
      "id": "19pPMbXQq20k",
      "metadata": {
        "id": "19pPMbXQq20k"
      },
      "outputs": [],
      "source": [
        "# Mostrar los textos en un  DataFrame\n",
        "corpus_nopunct = []\n",
        "#Iterar sobre cada documento del corpus\n",
        "for doc in corpus:\n",
        "   # Convertir el texto del documento a minúsculas y eliminar todos los caracteres de puntuación\n",
        "  corpus_nopunct.append(doc.lower().translate(str.maketrans('','',string.punctuation)))"
      ]
    },
    {
      "cell_type": "code",
      "execution_count": null,
      "id": "yxZ0MA02vUN6",
      "metadata": {
        "colab": {
          "base_uri": "https://localhost:8080/"
        },
        "id": "yxZ0MA02vUN6",
        "outputId": "0df26740-a50f-470b-a6ee-1826212a2bbd"
      },
      "outputs": [
        {
          "name": "stdout",
          "output_type": "stream",
          "text": [
            "   id            guest                    title  \\\n",
            "0   1      Max Tegmark                 Life 3.0   \n",
            "1   2    Christof Koch            Consciousness   \n",
            "2   3    Steven Pinker  AI in the Age of Reason   \n",
            "3   4    Yoshua Bengio            Deep Learning   \n",
            "4   5  Vladimir Vapnik     Statistical Learning   \n",
            "\n",
            "                                                text  \\\n",
            "0  As part of MIT course 6S099, Artificial Genera...   \n",
            "1  As part of MIT course 6S099 on artificial gene...   \n",
            "2  You've studied the human mind, cognition, lang...   \n",
            "3  What difference between biological neural netw...   \n",
            "4  The following is a conversation with Vladimir ...   \n",
            "\n",
            "                                        text_nopunct  \n",
            "0  as part of mit course 6s099 artificial general...  \n",
            "1  as part of mit course 6s099 on artificial gene...  \n",
            "2  youve studied the human mind cognition languag...  \n",
            "3  what difference between biological neural netw...  \n",
            "4  the following is a conversation with vladimir ...  \n"
          ]
        }
      ],
      "source": [
        "# Crear una lista vacía para almacenar los documentos procesados\n",
        "df['text_nopunct'] = corpus_nopunct\n",
        "#muestra los docuemntos procesados una ves que se ha realizado el preprocesamiento\n",
        "print(df.head())"
      ]
    },
    {
      "cell_type": "markdown",
      "id": "WDAwBDJ0gL5M",
      "metadata": {
        "id": "WDAwBDJ0gL5M"
      },
      "source": [
        "# Cargamos los stopwords para proceder a eliminarlos de nuestro corpus"
      ]
    },
    {
      "cell_type": "code",
      "execution_count": null,
      "id": "ndICLRKEvULQ",
      "metadata": {
        "colab": {
          "base_uri": "https://localhost:8080/"
        },
        "id": "ndICLRKEvULQ",
        "outputId": "6b5c467b-f0d6-4828-fad5-d9b4fdad7290"
      },
      "outputs": [
        {
          "name": "stderr",
          "output_type": "stream",
          "text": [
            "[nltk_data] Downloading package stopwords to /root/nltk_data...\n",
            "[nltk_data]   Package stopwords is already up-to-date!\n"
          ]
        }
      ],
      "source": [
        "import nltk\n",
        "\n",
        "# Download the stopwords corpus\n",
        "nltk.download('stopwords')\n",
        "\n",
        "from nltk.corpus import stopwords\n",
        "\n",
        "#muestra los docuemntos procesados una ves que se ha realizado el preprocesamiento\n",
        "stopw = set(stopwords.words('english'))\n",
        "\n",
        "\n"
      ]
    },
    {
      "cell_type": "code",
      "execution_count": null,
      "id": "wgMU5brwwG7Z",
      "metadata": {
        "colab": {
          "base_uri": "https://localhost:8080/"
        },
        "id": "wgMU5brwwG7Z",
        "outputId": "a50f62e8-b005-4da0-a5a8-c79d651cd3b0"
      },
      "outputs": [
        {
          "name": "stdout",
          "output_type": "stream",
          "text": [
            "{'itself', \"aren't\", 'its', 'myself', 'don', 'while', \"couldn't\", 'on', 'is', \"hadn't\", 'for', 'you', 'doing', 'her', 'how', 'our', 'are', 'about', 'where', 'such', 'himself', 'at', 'only', \"doesn't\", 'i', 'shan', 'isn', 'here', 'needn', 'any', 'some', \"should've\", \"she's\", 'when', 'these', 'few', 'a', 'being', 'again', 'y', 'both', 'aren', \"won't\", 'same', 'than', 'all', 'it', 'below', 'we', 'under', 'his', 'and', 'was', 'now', 'from', 'over', 'to', 'ours', 'who', 'hadn', 'won', 'the', 'll', 'nor', 'very', 'do', \"wasn't\", 'am', \"you're\", 'just', 'theirs', 'through', 'ma', \"that'll\", 'in', 'weren', 'out', 'why', \"you've\", 've', \"wouldn't\", 'doesn', 'after', \"it's\", 'once', 'if', 'so', 'they', 'd', 'into', \"haven't\", 'by', 'most', 'have', 'she', 'this', 'but', \"don't\", 'own', 'couldn', 'wasn', 'didn', 'or', \"you'd\", 'ourselves', \"weren't\", 'had', \"hasn't\", \"shouldn't\", 'what', 'whom', 'further', 'herself', \"didn't\", 'haven', 'wouldn', 'o', 'm', 'hasn', 'mustn', 'has', 'until', \"mustn't\", 'he', 'been', 'yourself', 's', 'between', 'that', \"mightn't\", 'because', 't', 'mightn', 'other', 'did', 'yours', 'each', \"needn't\", 'more', 'an', 'no', \"shan't\", 'with', 'their', 'should', 'having', 'me', 'hers', \"isn't\", 'be', 'then', 'shouldn', 'there', 'those', 'off', 'which', 'yourselves', 'not', 'ain', 'before', 'my', 'will', 'can', 'your', 'above', 'themselves', 'them', \"you'll\", 'were', 'too', 'as', 'of', 'against', 'down', 'during', 'him', 're', 'up', 'does'}\n",
            "179\n"
          ]
        }
      ],
      "source": [
        "\n",
        "#Mostrar los stopwords\n",
        "print(stopw)\n",
        "#Mostar el tamano del arreglo de stopwords\n",
        "print(len(stopw))"
      ]
    },
    {
      "cell_type": "code",
      "execution_count": null,
      "id": "tib9rUVN6Jw-",
      "metadata": {
        "id": "tib9rUVN6Jw-"
      },
      "outputs": [],
      "source": [
        "# Inicializa una lista vacía para almacenar los documentos sin stopwords\n",
        "corpus_nostopw = []"
      ]
    },
    {
      "cell_type": "code",
      "execution_count": null,
      "id": "nSH7ytrsvUIw",
      "metadata": {
        "id": "nSH7ytrsvUIw"
      },
      "outputs": [],
      "source": [
        " # Itera sobre todos los documentos\n",
        "for doc in corpus_nopunct:\n",
        "    # Inicializa una lista vacía para almacenar las palabras sin stopwords\n",
        "    clean_doc = []\n",
        "    # Tokenizar el documento en palabras\n",
        "    doc_array = doc.split(' ')\n",
        "    # Iterar sobre cada palabra en la lista\n",
        "    for word in doc_array:\n",
        "       # Verifica si la palabra no está en la lista de stopwords\n",
        "        if word not in stopw:\n",
        "        # Si la palabra no está en la lista de stopwords, la agrega a la lista de palabras sin stopwords\n",
        "           clean_doc.append(word)\n",
        "      # Une las palabras en clean_doc con un espacio y agrega el documento procesado a corpus_nostopw\n",
        "    corpus_nostopw.append(' '.join(clean_doc))"
      ]
    },
    {
      "cell_type": "markdown",
      "id": "1jMjKbxMipoP",
      "metadata": {
        "id": "1jMjKbxMipoP"
      },
      "source": [
        "### Datos limpios mostrados en un DataFrame"
      ]
    },
    {
      "cell_type": "code",
      "execution_count": null,
      "id": "2Mes0xwI1dQH",
      "metadata": {
        "colab": {
          "base_uri": "https://localhost:8080/"
        },
        "id": "2Mes0xwI1dQH",
        "outputId": "4e691c9e-98b3-4386-82f9-7460dd6a9ccf"
      },
      "outputs": [
        {
          "name": "stdout",
          "output_type": "stream",
          "text": [
            "   id            guest                    title  \\\n",
            "0   1      Max Tegmark                 Life 3.0   \n",
            "1   2    Christof Koch            Consciousness   \n",
            "2   3    Steven Pinker  AI in the Age of Reason   \n",
            "3   4    Yoshua Bengio            Deep Learning   \n",
            "4   5  Vladimir Vapnik     Statistical Learning   \n",
            "\n",
            "                                                text  \\\n",
            "0  As part of MIT course 6S099, Artificial Genera...   \n",
            "1  As part of MIT course 6S099 on artificial gene...   \n",
            "2  You've studied the human mind, cognition, lang...   \n",
            "3  What difference between biological neural netw...   \n",
            "4  The following is a conversation with Vladimir ...   \n",
            "\n",
            "                                        text_nopunct  \\\n",
            "0  as part of mit course 6s099 artificial general...   \n",
            "1  as part of mit course 6s099 on artificial gene...   \n",
            "2  youve studied the human mind cognition languag...   \n",
            "3  what difference between biological neural netw...   \n",
            "4  the following is a conversation with vladimir ...   \n",
            "\n",
            "                                        text_nostopw  \n",
            "0  part mit course 6s099 artificial general intel...  \n",
            "1  part mit course 6s099 artificial general intel...  \n",
            "2  youve studied human mind cognition language vi...  \n",
            "3  difference biological neural networks artifici...  \n",
            "4  following conversation vladimir vapnik hes co ...  \n"
          ]
        }
      ],
      "source": [
        "# Crear una lista vacía para almacenar los documentos procesados\n",
        "df['text_nostopw'] = corpus_nostopw\n",
        "#Impresion de las primeras filas\n",
        "print(df.head())"
      ]
    },
    {
      "cell_type": "code",
      "execution_count": null,
      "id": "pHyfQuYJvUF7",
      "metadata": {
        "colab": {
          "base_uri": "https://localhost:8080/"
        },
        "id": "pHyfQuYJvUF7",
        "outputId": "628cf7cb-0e60-4fd2-b41c-525d41421dc6"
      },
      "outputs": [
        {
          "name": "stdout",
          "output_type": "stream",
          "text": [
            "44733\n"
          ]
        }
      ],
      "source": [
        "#Muestra el tamaño del corpus procesados\n",
        "print(len(corpus_nostopw[0]))\n",
        "#rint(len(df['text'][0].split()))"
      ]
    },
    {
      "cell_type": "code",
      "execution_count": null,
      "id": "vDdo3fE9vUBq",
      "metadata": {
        "colab": {
          "base_uri": "https://localhost:8080/"
        },
        "id": "vDdo3fE9vUBq",
        "outputId": "97681084-3b84-4531-b066-54d90990b286"
      },
      "outputs": [
        {
          "data": {
            "text/plain": [
              "13424"
            ]
          },
          "execution_count": 117,
          "metadata": {},
          "output_type": "execute_result"
        }
      ],
      "source": [
        "len(df['text'].iloc[0].split(' '))"
      ]
    },
    {
      "cell_type": "markdown",
      "id": "CNo2TkcD3_BG",
      "metadata": {
        "id": "CNo2TkcD3_BG"
      },
      "source": [
        "# Step 4 : Vector Space Representation - TF-IDF"
      ]
    },
    {
      "cell_type": "code",
      "execution_count": null,
      "id": "xlAGnb_94Joa",
      "metadata": {
        "id": "xlAGnb_94Joa"
      },
      "outputs": [],
      "source": [
        "from sklearn.feature_extraction.text import TfidfVectorizer\n",
        "#Impresion de las primeras filas\n",
        "vectorizer = TfidfVectorizer()\n",
        "# Aplica el vectorizador para ajustar y transformar los documentos limpios en una matriz TF-IDF\n",
        "tfidf_mtx = vectorizer.fit_transform(df['text_nostopw'])"
      ]
    },
    {
      "cell_type": "markdown",
      "id": "qyVDsxF_9ttJ",
      "metadata": {
        "id": "qyVDsxF_9ttJ"
      },
      "source": [
        "# Step 5: Vector Space Representation  BERT"
      ]
    },
    {
      "cell_type": "code",
      "execution_count": null,
      "id": "imZeI_Mq9tK9",
      "metadata": {
        "colab": {
          "base_uri": "https://localhost:8080/"
        },
        "id": "imZeI_Mq9tK9",
        "outputId": "e0281264-0ae6-4f74-8f59-3c9b8deee820"
      },
      "outputs": [
        {
          "name": "stderr",
          "output_type": "stream",
          "text": [
            "Some weights of the PyTorch model were not used when initializing the TF 2.0 model TFBertModel: ['cls.seq_relationship.bias', 'cls.predictions.transform.dense.weight', 'cls.predictions.transform.LayerNorm.weight', 'cls.predictions.transform.dense.bias', 'cls.seq_relationship.weight', 'cls.predictions.bias', 'cls.predictions.transform.LayerNorm.bias']\n",
            "- This IS expected if you are initializing TFBertModel from a PyTorch model trained on another task or with another architecture (e.g. initializing a TFBertForSequenceClassification model from a BertForPreTraining model).\n",
            "- This IS NOT expected if you are initializing TFBertModel from a PyTorch model that you expect to be exactly identical (e.g. initializing a TFBertForSequenceClassification model from a BertForSequenceClassification model).\n",
            "All the weights of TFBertModel were initialized from the PyTorch model.\n",
            "If your task is similar to the task the model of the checkpoint was trained on, you can already use TFBertModel for predictions without further training.\n"
          ]
        }
      ],
      "source": [
        "import numpy as np\n",
        "from transformers import BertTokenizer, BertModel\n",
        "\n",
        "# Cargar el tokenizador y el modelo BERT\n",
        "tokenizer = BertTokenizer.from_pretrained('bert-base-uncased')\n",
        "model = TFBertModel.from_pretrained('bert-base-uncased')"
      ]
    },
    {
      "cell_type": "markdown",
      "id": "GHTO_Z97mJn2",
      "metadata": {
        "id": "GHTO_Z97mJn2"
      },
      "source": [
        "### Funcion generador de embeddings BERT"
      ]
    },
    {
      "cell_type": "code",
      "execution_count": null,
      "id": "4bqgDYhN-IjO",
      "metadata": {
        "id": "4bqgDYhN-IjO"
      },
      "outputs": [],
      "source": [
        "def generate_bert_embeddings(texts):\n",
        "    embeddings = []\n",
        "    for text in texts:\n",
        "      # Tokenizar el texto y convertirlo en tensores usando TensorFlow\n",
        "        inputs = tokenizer(text, return_tensors='tf', padding=True, truncation=True)\n",
        "      #Pasar los inputs al modelo BERT para obtener las representaciones\n",
        "        outputs = model(**inputs)\n",
        "        # Usar la representación de la [CLS] token o la media de todas las representaciones\n",
        "        embeddings.append(outputs.last_hidden_state[:, 0, :])\n",
        " # Convertir la lista de embeddings en un numpy array y transponer las dimensiones\n",
        "    return np.array(embeddings).transpose(0,2,1)\n",
        "# Generar embeddings BERT para el corpus de textos\n",
        "corpus_bert = generate_bert_embeddings(corpus)"
      ]
    },
    {
      "cell_type": "code",
      "execution_count": null,
      "id": "e2_x3dAyBz93",
      "metadata": {
        "colab": {
          "base_uri": "https://localhost:8080/"
        },
        "id": "e2_x3dAyBz93",
        "outputId": "6995b4c0-b3d5-4d78-c4e5-b9d5407cedec"
      },
      "outputs": [
        {
          "data": {
            "text/plain": [
              "(319, 768, 1)"
            ]
          },
          "execution_count": 122,
          "metadata": {},
          "output_type": "execute_result"
        }
      ],
      "source": [
        "# Devuelve la forma del array corpus_bert\n",
        "corpus_bert.shape\n"
      ]
    },
    {
      "cell_type": "code",
      "execution_count": 158,
      "id": "kHI39Bzy-tP_",
      "metadata": {
        "id": "kHI39Bzy-tP_"
      },
      "outputs": [],
      "source": [
        "# Define una lista con la consulta 'Computer Science'\n",
        "query = ['Artificial General']\n",
        "# Genera embeddings BERT para la consulta\n",
        "query_bert = generate_bert_embeddings(query)\n",
        "\n"
      ]
    },
    {
      "cell_type": "code",
      "execution_count": 159,
      "id": "T_-0cpcQB72d",
      "metadata": {
        "colab": {
          "base_uri": "https://localhost:8080/"
        },
        "id": "T_-0cpcQB72d",
        "outputId": "39b35124-cddd-4577-815d-11c71011b186"
      },
      "outputs": [
        {
          "data": {
            "text/plain": [
              "(1, 768, 1)"
            ]
          },
          "execution_count": 159,
          "metadata": {},
          "output_type": "execute_result"
        }
      ],
      "source": [
        "# Devuelve la forma del array query_bert\n",
        "query_bert.shape"
      ]
    },
    {
      "cell_type": "code",
      "execution_count": 160,
      "id": "mh9F5r1m_iO7",
      "metadata": {
        "colab": {
          "base_uri": "https://localhost:8080/"
        },
        "id": "mh9F5r1m_iO7",
        "outputId": "464b64d1-6ceb-460a-f2f3-af35dfe67885"
      },
      "outputs": [
        {
          "data": {
            "text/plain": [
              "array([[0.66573834],\n",
              "       [0.68808705],\n",
              "       [0.6628542 ],\n",
              "       [0.5722449 ],\n",
              "       [0.6859926 ],\n",
              "       [0.71603954],\n",
              "       [0.6740874 ],\n",
              "       [0.6259572 ],\n",
              "       [0.63718104],\n",
              "       [0.6339799 ],\n",
              "       [0.6250173 ],\n",
              "       [0.66667867],\n",
              "       [0.6957108 ],\n",
              "       [0.64849   ],\n",
              "       [0.64849   ],\n",
              "       [0.6591395 ],\n",
              "       [0.7493383 ],\n",
              "       [0.6533493 ],\n",
              "       [0.47185946],\n",
              "       [0.6283725 ],\n",
              "       [0.70002836],\n",
              "       [0.5759804 ],\n",
              "       [0.5983999 ],\n",
              "       [0.6757225 ],\n",
              "       [0.5966219 ],\n",
              "       [0.63746464],\n",
              "       [0.68690896],\n",
              "       [0.6173605 ],\n",
              "       [0.5717934 ],\n",
              "       [0.6350664 ],\n",
              "       [0.6329876 ],\n",
              "       [0.6906017 ],\n",
              "       [0.6739389 ],\n",
              "       [0.6484343 ],\n",
              "       [0.67641956],\n",
              "       [0.69708866],\n",
              "       [0.6202234 ],\n",
              "       [0.69530123],\n",
              "       [0.6773106 ],\n",
              "       [0.68360865],\n",
              "       [0.64828914],\n",
              "       [0.61575466],\n",
              "       [0.6287988 ],\n",
              "       [0.6648556 ],\n",
              "       [0.69731116],\n",
              "       [0.62786067],\n",
              "       [0.6176902 ],\n",
              "       [0.5987702 ],\n",
              "       [0.69495296],\n",
              "       [0.63917404],\n",
              "       [0.62777424],\n",
              "       [0.6247306 ],\n",
              "       [0.7101145 ],\n",
              "       [0.6651702 ],\n",
              "       [0.65136707],\n",
              "       [0.63153684],\n",
              "       [0.6097708 ],\n",
              "       [0.5921366 ],\n",
              "       [0.5935069 ],\n",
              "       [0.57846844],\n",
              "       [0.5708726 ],\n",
              "       [0.60035026],\n",
              "       [0.6664817 ],\n",
              "       [0.5475467 ],\n",
              "       [0.5429728 ],\n",
              "       [0.5262343 ],\n",
              "       [0.6142604 ],\n",
              "       [0.49373144],\n",
              "       [0.61615217],\n",
              "       [0.5802715 ],\n",
              "       [0.6216183 ],\n",
              "       [0.6084441 ],\n",
              "       [0.66399014],\n",
              "       [0.62246037],\n",
              "       [0.6084896 ],\n",
              "       [0.5496608 ],\n",
              "       [0.59355336],\n",
              "       [0.6301904 ],\n",
              "       [0.5922042 ],\n",
              "       [0.67008495],\n",
              "       [0.5446838 ],\n",
              "       [0.61567336],\n",
              "       [0.6188056 ],\n",
              "       [0.5799978 ],\n",
              "       [0.57890505],\n",
              "       [0.63647854],\n",
              "       [0.6314473 ],\n",
              "       [0.5010631 ],\n",
              "       [0.65946805],\n",
              "       [0.6506573 ],\n",
              "       [0.47208685],\n",
              "       [0.61787224],\n",
              "       [0.65560913],\n",
              "       [0.61564267],\n",
              "       [0.61478835],\n",
              "       [0.6297027 ],\n",
              "       [0.7079358 ],\n",
              "       [0.61071074],\n",
              "       [0.6269009 ],\n",
              "       [0.6692755 ],\n",
              "       [0.56037223],\n",
              "       [0.6276444 ],\n",
              "       [0.5680911 ],\n",
              "       [0.5608659 ],\n",
              "       [0.56627715],\n",
              "       [0.6167163 ],\n",
              "       [0.636587  ],\n",
              "       [0.5607398 ],\n",
              "       [0.60439557],\n",
              "       [0.612442  ],\n",
              "       [0.6225896 ],\n",
              "       [0.631815  ],\n",
              "       [0.6443731 ],\n",
              "       [0.559207  ],\n",
              "       [0.68143564],\n",
              "       [0.6360524 ],\n",
              "       [0.61082226],\n",
              "       [0.6334967 ],\n",
              "       [0.60145676],\n",
              "       [0.6733229 ],\n",
              "       [0.6529634 ],\n",
              "       [0.63707423],\n",
              "       [0.57453334],\n",
              "       [0.61173034],\n",
              "       [0.55982673],\n",
              "       [0.59633243],\n",
              "       [0.5980059 ],\n",
              "       [0.667003  ],\n",
              "       [0.63848436],\n",
              "       [0.7148348 ],\n",
              "       [0.5634457 ],\n",
              "       [0.57675934],\n",
              "       [0.68340504],\n",
              "       [0.7233645 ],\n",
              "       [0.6696424 ],\n",
              "       [0.674607  ],\n",
              "       [0.64987147],\n",
              "       [0.6532767 ],\n",
              "       [0.6474549 ],\n",
              "       [0.68296444],\n",
              "       [0.69291955],\n",
              "       [0.6282674 ],\n",
              "       [0.65997064],\n",
              "       [0.6617546 ],\n",
              "       [0.68688846],\n",
              "       [0.7051398 ],\n",
              "       [0.62352514],\n",
              "       [0.6679151 ],\n",
              "       [0.699492  ],\n",
              "       [0.6781773 ],\n",
              "       [0.6106576 ],\n",
              "       [0.58439404],\n",
              "       [0.69209814],\n",
              "       [0.6707057 ],\n",
              "       [0.6421605 ],\n",
              "       [0.711987  ],\n",
              "       [0.71423143],\n",
              "       [0.7042304 ],\n",
              "       [0.65104926],\n",
              "       [0.7029996 ],\n",
              "       [0.6311651 ],\n",
              "       [0.72338283],\n",
              "       [0.65435934],\n",
              "       [0.7037899 ],\n",
              "       [0.71670836],\n",
              "       [0.7190948 ],\n",
              "       [0.6007632 ],\n",
              "       [0.6520143 ],\n",
              "       [0.6727535 ],\n",
              "       [0.55653405],\n",
              "       [0.6591917 ],\n",
              "       [0.52716035],\n",
              "       [0.5416035 ],\n",
              "       [0.65723157],\n",
              "       [0.61886513],\n",
              "       [0.58605224],\n",
              "       [0.66872156],\n",
              "       [0.666278  ],\n",
              "       [0.5442149 ],\n",
              "       [0.61289376],\n",
              "       [0.63285244],\n",
              "       [0.65945244],\n",
              "       [0.6434135 ],\n",
              "       [0.5886638 ],\n",
              "       [0.6311461 ],\n",
              "       [0.6965134 ],\n",
              "       [0.58823836],\n",
              "       [0.58932936],\n",
              "       [0.61241364],\n",
              "       [0.6884757 ],\n",
              "       [0.7004658 ],\n",
              "       [0.7014442 ],\n",
              "       [0.6276001 ],\n",
              "       [0.6556617 ],\n",
              "       [0.65023404],\n",
              "       [0.5907401 ],\n",
              "       [0.6417322 ],\n",
              "       [0.6442414 ],\n",
              "       [0.60575444],\n",
              "       [0.7412368 ],\n",
              "       [0.6684311 ],\n",
              "       [0.6575674 ],\n",
              "       [0.6840917 ],\n",
              "       [0.594388  ],\n",
              "       [0.64322937],\n",
              "       [0.6216664 ],\n",
              "       [0.7055822 ],\n",
              "       [0.5825942 ],\n",
              "       [0.5719667 ],\n",
              "       [0.61646205],\n",
              "       [0.7211634 ],\n",
              "       [0.5934608 ],\n",
              "       [0.5138732 ],\n",
              "       [0.6424247 ],\n",
              "       [0.6552705 ],\n",
              "       [0.65383255],\n",
              "       [0.6659593 ],\n",
              "       [0.556414  ],\n",
              "       [0.5459101 ],\n",
              "       [0.6332474 ],\n",
              "       [0.6042002 ],\n",
              "       [0.5473953 ],\n",
              "       [0.68845725],\n",
              "       [0.560443  ],\n",
              "       [0.5607374 ],\n",
              "       [0.6363841 ],\n",
              "       [0.6203762 ],\n",
              "       [0.6186434 ],\n",
              "       [0.61411333],\n",
              "       [0.623204  ],\n",
              "       [0.56159735],\n",
              "       [0.59318435],\n",
              "       [0.6439739 ],\n",
              "       [0.58252263],\n",
              "       [0.634726  ],\n",
              "       [0.51509255],\n",
              "       [0.633871  ],\n",
              "       [0.6264521 ],\n",
              "       [0.6019037 ],\n",
              "       [0.6485095 ],\n",
              "       [0.6459262 ],\n",
              "       [0.62968355],\n",
              "       [0.58121127],\n",
              "       [0.60438603],\n",
              "       [0.62544006],\n",
              "       [0.6017611 ],\n",
              "       [0.6457346 ],\n",
              "       [0.5888922 ],\n",
              "       [0.6585815 ],\n",
              "       [0.52348775],\n",
              "       [0.6971184 ],\n",
              "       [0.6997295 ],\n",
              "       [0.55474746],\n",
              "       [0.64357895],\n",
              "       [0.4483206 ],\n",
              "       [0.64890015],\n",
              "       [0.6102581 ],\n",
              "       [0.5390788 ],\n",
              "       [0.5642598 ],\n",
              "       [0.6908378 ],\n",
              "       [0.6458435 ],\n",
              "       [0.58097726],\n",
              "       [0.61987376],\n",
              "       [0.57799554],\n",
              "       [0.5623927 ],\n",
              "       [0.672243  ],\n",
              "       [0.58270776],\n",
              "       [0.5643382 ],\n",
              "       [0.6464619 ],\n",
              "       [0.6668567 ],\n",
              "       [0.6717338 ],\n",
              "       [0.62026125],\n",
              "       [0.6814616 ],\n",
              "       [0.7297316 ],\n",
              "       [0.6216591 ],\n",
              "       [0.5933792 ],\n",
              "       [0.63352764],\n",
              "       [0.6328498 ],\n",
              "       [0.6295608 ],\n",
              "       [0.6597614 ],\n",
              "       [0.6072072 ],\n",
              "       [0.52892494],\n",
              "       [0.6900575 ],\n",
              "       [0.5691989 ],\n",
              "       [0.6103448 ],\n",
              "       [0.689453  ],\n",
              "       [0.63249743],\n",
              "       [0.72496426],\n",
              "       [0.6501269 ],\n",
              "       [0.5691569 ],\n",
              "       [0.64395523],\n",
              "       [0.62549746],\n",
              "       [0.7201496 ],\n",
              "       [0.68188506],\n",
              "       [0.6666619 ],\n",
              "       [0.70717585],\n",
              "       [0.5790349 ],\n",
              "       [0.64949894],\n",
              "       [0.6537028 ],\n",
              "       [0.63184404],\n",
              "       [0.69827056],\n",
              "       [0.6448592 ],\n",
              "       [0.6370392 ],\n",
              "       [0.6809606 ],\n",
              "       [0.57491356],\n",
              "       [0.62488854],\n",
              "       [0.7155966 ],\n",
              "       [0.67645955],\n",
              "       [0.5876165 ],\n",
              "       [0.5528586 ],\n",
              "       [0.6588849 ],\n",
              "       [0.699935  ],\n",
              "       [0.57664335],\n",
              "       [0.6046312 ],\n",
              "       [0.608068  ],\n",
              "       [0.62208724],\n",
              "       [0.67705   ],\n",
              "       [0.6724013 ],\n",
              "       [0.6780514 ]], dtype=float32)"
            ]
          },
          "execution_count": 160,
          "metadata": {},
          "output_type": "execute_result"
        }
      ],
      "source": [
        "# Calcula la similitud coseno entre corpus_bert y query_bert\n",
        "similarities = cosine_similarity(corpus_bert.reshape(319,768),query_bert.reshape(1,768))\n",
        "# Muestra las similitudes calculadas\n",
        "similarities\n"
      ]
    },
    {
      "cell_type": "markdown",
      "id": "UWHBIjfq9Ehf",
      "metadata": {
        "id": "UWHBIjfq9Ehf"
      },
      "source": [
        "#Step 6: Query processing"
      ]
    },
    {
      "cell_type": "markdown",
      "id": "xBko1mv5mZLm",
      "metadata": {
        "id": "xBko1mv5mZLm"
      },
      "source": [
        "Define a function to process the query and compute similarity scores using both TF-IDF and BERT embeddings."
      ]
    },
    {
      "cell_type": "markdown",
      "id": "iFRUZ04TmcnU",
      "metadata": {
        "id": "iFRUZ04TmcnU"
      },
      "source": [
        "### Funcion retrieve TFIDF"
      ]
    },
    {
      "cell_type": "code",
      "execution_count": null,
      "id": "CwtN4VwI71lI",
      "metadata": {
        "id": "CwtN4VwI71lI"
      },
      "outputs": [],
      "source": [
        "def retrieve_tfidf(query):\n",
        "  # Transforma la consulta usando vectorizer (TF-IDF)\n",
        "  query_vector = vectorizer.transform([query])\n",
        "\n",
        "  # Calcula la similitud coseno entre tfidf_mtx y la consulta\n",
        "  similarities = cosine_similarity(tfidf_mtx, query_vector)\n",
        "\n",
        "  # Crea un DataFrame con las similitudes\n",
        "  similarities_df = pd.DataFrame(similarities, columns=['similarity'])\n",
        "\n",
        "  # Agrega los títulos de los documentos al DataFrame\n",
        "  similarities_df['document'] = df['title']\n",
        "\n",
        "  # Devuelve el DataFrame con las similitudes calculadas\n",
        "  return similarities_df\n",
        "\n"
      ]
    },
    {
      "cell_type": "code",
      "execution_count": 163,
      "id": "AWETFOKF71ie",
      "metadata": {
        "colab": {
          "base_uri": "https://localhost:8080/",
          "height": 424
        },
        "id": "AWETFOKF71ie",
        "outputId": "5bf93edc-4352-45c7-b955-14305f7b81b5"
      },
      "outputs": [
        {
          "data": {
            "application/vnd.google.colaboratory.intrinsic+json": {
              "summary": "{\n  \"name\": \"retrieve_tfidf('Artificial General')\",\n  \"rows\": 319,\n  \"fields\": [\n    {\n      \"column\": \"similarity\",\n      \"properties\": {\n        \"dtype\": \"number\",\n        \"std\": 0.014651214965682113,\n        \"min\": 0.0,\n        \"max\": 0.13137856337847947,\n        \"num_unique_values\": 315,\n        \"samples\": [\n          0.0021037729924243843,\n          0.04275490239747699,\n          0.007042707155588823\n        ],\n        \"semantic_type\": \"\",\n        \"description\": \"\"\n      }\n    },\n    {\n      \"column\": \"document\",\n      \"properties\": {\n        \"dtype\": \"string\",\n        \"num_unique_values\": 317,\n        \"samples\": [\n          \"Deep Learning, Education, and Real-World AI\",\n          \"Bad Vegan\",\n          \"Thousand Brains Theory of Intelligence\"\n        ],\n        \"semantic_type\": \"\",\n        \"description\": \"\"\n      }\n    }\n  ]\n}",
              "type": "dataframe"
            },
            "text/html": [
              "\n",
              "  <div id=\"df-37c2ef84-48fe-4641-802e-46660ebef183\" class=\"colab-df-container\">\n",
              "    <div>\n",
              "<style scoped>\n",
              "    .dataframe tbody tr th:only-of-type {\n",
              "        vertical-align: middle;\n",
              "    }\n",
              "\n",
              "    .dataframe tbody tr th {\n",
              "        vertical-align: top;\n",
              "    }\n",
              "\n",
              "    .dataframe thead th {\n",
              "        text-align: right;\n",
              "    }\n",
              "</style>\n",
              "<table border=\"1\" class=\"dataframe\">\n",
              "  <thead>\n",
              "    <tr style=\"text-align: right;\">\n",
              "      <th></th>\n",
              "      <th>similarity</th>\n",
              "      <th>document</th>\n",
              "    </tr>\n",
              "  </thead>\n",
              "  <tbody>\n",
              "    <tr>\n",
              "      <th>0</th>\n",
              "      <td>0.033378</td>\n",
              "      <td>Life 3.0</td>\n",
              "    </tr>\n",
              "    <tr>\n",
              "      <th>1</th>\n",
              "      <td>0.052715</td>\n",
              "      <td>Consciousness</td>\n",
              "    </tr>\n",
              "    <tr>\n",
              "      <th>2</th>\n",
              "      <td>0.131379</td>\n",
              "      <td>AI in the Age of Reason</td>\n",
              "    </tr>\n",
              "    <tr>\n",
              "      <th>3</th>\n",
              "      <td>0.069172</td>\n",
              "      <td>Deep Learning</td>\n",
              "    </tr>\n",
              "    <tr>\n",
              "      <th>4</th>\n",
              "      <td>0.041889</td>\n",
              "      <td>Statistical Learning</td>\n",
              "    </tr>\n",
              "    <tr>\n",
              "      <th>...</th>\n",
              "      <td>...</td>\n",
              "      <td>...</td>\n",
              "    </tr>\n",
              "    <tr>\n",
              "      <th>314</th>\n",
              "      <td>0.003836</td>\n",
              "      <td>Singularity, Superintelligence, and Immortality</td>\n",
              "    </tr>\n",
              "    <tr>\n",
              "      <th>315</th>\n",
              "      <td>0.013679</td>\n",
              "      <td>Emotion AI, Social Robots, and Self-Driving Cars</td>\n",
              "    </tr>\n",
              "    <tr>\n",
              "      <th>316</th>\n",
              "      <td>0.002737</td>\n",
              "      <td>Comedy, MADtv, AI, Friendship, Madness, and Pr...</td>\n",
              "    </tr>\n",
              "    <tr>\n",
              "      <th>317</th>\n",
              "      <td>0.003851</td>\n",
              "      <td>Poker</td>\n",
              "    </tr>\n",
              "    <tr>\n",
              "      <th>318</th>\n",
              "      <td>0.007999</td>\n",
              "      <td>Biology, Life, Aliens, Evolution, Embryogenesi...</td>\n",
              "    </tr>\n",
              "  </tbody>\n",
              "</table>\n",
              "<p>319 rows × 2 columns</p>\n",
              "</div>\n",
              "    <div class=\"colab-df-buttons\">\n",
              "\n",
              "  <div class=\"colab-df-container\">\n",
              "    <button class=\"colab-df-convert\" onclick=\"convertToInteractive('df-37c2ef84-48fe-4641-802e-46660ebef183')\"\n",
              "            title=\"Convert this dataframe to an interactive table.\"\n",
              "            style=\"display:none;\">\n",
              "\n",
              "  <svg xmlns=\"http://www.w3.org/2000/svg\" height=\"24px\" viewBox=\"0 -960 960 960\">\n",
              "    <path d=\"M120-120v-720h720v720H120Zm60-500h600v-160H180v160Zm220 220h160v-160H400v160Zm0 220h160v-160H400v160ZM180-400h160v-160H180v160Zm440 0h160v-160H620v160ZM180-180h160v-160H180v160Zm440 0h160v-160H620v160Z\"/>\n",
              "  </svg>\n",
              "    </button>\n",
              "\n",
              "  <style>\n",
              "    .colab-df-container {\n",
              "      display:flex;\n",
              "      gap: 12px;\n",
              "    }\n",
              "\n",
              "    .colab-df-convert {\n",
              "      background-color: #E8F0FE;\n",
              "      border: none;\n",
              "      border-radius: 50%;\n",
              "      cursor: pointer;\n",
              "      display: none;\n",
              "      fill: #1967D2;\n",
              "      height: 32px;\n",
              "      padding: 0 0 0 0;\n",
              "      width: 32px;\n",
              "    }\n",
              "\n",
              "    .colab-df-convert:hover {\n",
              "      background-color: #E2EBFA;\n",
              "      box-shadow: 0px 1px 2px rgba(60, 64, 67, 0.3), 0px 1px 3px 1px rgba(60, 64, 67, 0.15);\n",
              "      fill: #174EA6;\n",
              "    }\n",
              "\n",
              "    .colab-df-buttons div {\n",
              "      margin-bottom: 4px;\n",
              "    }\n",
              "\n",
              "    [theme=dark] .colab-df-convert {\n",
              "      background-color: #3B4455;\n",
              "      fill: #D2E3FC;\n",
              "    }\n",
              "\n",
              "    [theme=dark] .colab-df-convert:hover {\n",
              "      background-color: #434B5C;\n",
              "      box-shadow: 0px 1px 3px 1px rgba(0, 0, 0, 0.15);\n",
              "      filter: drop-shadow(0px 1px 2px rgba(0, 0, 0, 0.3));\n",
              "      fill: #FFFFFF;\n",
              "    }\n",
              "  </style>\n",
              "\n",
              "    <script>\n",
              "      const buttonEl =\n",
              "        document.querySelector('#df-37c2ef84-48fe-4641-802e-46660ebef183 button.colab-df-convert');\n",
              "      buttonEl.style.display =\n",
              "        google.colab.kernel.accessAllowed ? 'block' : 'none';\n",
              "\n",
              "      async function convertToInteractive(key) {\n",
              "        const element = document.querySelector('#df-37c2ef84-48fe-4641-802e-46660ebef183');\n",
              "        const dataTable =\n",
              "          await google.colab.kernel.invokeFunction('convertToInteractive',\n",
              "                                                    [key], {});\n",
              "        if (!dataTable) return;\n",
              "\n",
              "        const docLinkHtml = 'Like what you see? Visit the ' +\n",
              "          '<a target=\"_blank\" href=https://colab.research.google.com/notebooks/data_table.ipynb>data table notebook</a>'\n",
              "          + ' to learn more about interactive tables.';\n",
              "        element.innerHTML = '';\n",
              "        dataTable['output_type'] = 'display_data';\n",
              "        await google.colab.output.renderOutput(dataTable, element);\n",
              "        const docLink = document.createElement('div');\n",
              "        docLink.innerHTML = docLinkHtml;\n",
              "        element.appendChild(docLink);\n",
              "      }\n",
              "    </script>\n",
              "  </div>\n",
              "\n",
              "\n",
              "<div id=\"df-18a67604-a801-488d-ba7c-b672f23d122f\">\n",
              "  <button class=\"colab-df-quickchart\" onclick=\"quickchart('df-18a67604-a801-488d-ba7c-b672f23d122f')\"\n",
              "            title=\"Suggest charts\"\n",
              "            style=\"display:none;\">\n",
              "\n",
              "<svg xmlns=\"http://www.w3.org/2000/svg\" height=\"24px\"viewBox=\"0 0 24 24\"\n",
              "     width=\"24px\">\n",
              "    <g>\n",
              "        <path d=\"M19 3H5c-1.1 0-2 .9-2 2v14c0 1.1.9 2 2 2h14c1.1 0 2-.9 2-2V5c0-1.1-.9-2-2-2zM9 17H7v-7h2v7zm4 0h-2V7h2v10zm4 0h-2v-4h2v4z\"/>\n",
              "    </g>\n",
              "</svg>\n",
              "  </button>\n",
              "\n",
              "<style>\n",
              "  .colab-df-quickchart {\n",
              "      --bg-color: #E8F0FE;\n",
              "      --fill-color: #1967D2;\n",
              "      --hover-bg-color: #E2EBFA;\n",
              "      --hover-fill-color: #174EA6;\n",
              "      --disabled-fill-color: #AAA;\n",
              "      --disabled-bg-color: #DDD;\n",
              "  }\n",
              "\n",
              "  [theme=dark] .colab-df-quickchart {\n",
              "      --bg-color: #3B4455;\n",
              "      --fill-color: #D2E3FC;\n",
              "      --hover-bg-color: #434B5C;\n",
              "      --hover-fill-color: #FFFFFF;\n",
              "      --disabled-bg-color: #3B4455;\n",
              "      --disabled-fill-color: #666;\n",
              "  }\n",
              "\n",
              "  .colab-df-quickchart {\n",
              "    background-color: var(--bg-color);\n",
              "    border: none;\n",
              "    border-radius: 50%;\n",
              "    cursor: pointer;\n",
              "    display: none;\n",
              "    fill: var(--fill-color);\n",
              "    height: 32px;\n",
              "    padding: 0;\n",
              "    width: 32px;\n",
              "  }\n",
              "\n",
              "  .colab-df-quickchart:hover {\n",
              "    background-color: var(--hover-bg-color);\n",
              "    box-shadow: 0 1px 2px rgba(60, 64, 67, 0.3), 0 1px 3px 1px rgba(60, 64, 67, 0.15);\n",
              "    fill: var(--button-hover-fill-color);\n",
              "  }\n",
              "\n",
              "  .colab-df-quickchart-complete:disabled,\n",
              "  .colab-df-quickchart-complete:disabled:hover {\n",
              "    background-color: var(--disabled-bg-color);\n",
              "    fill: var(--disabled-fill-color);\n",
              "    box-shadow: none;\n",
              "  }\n",
              "\n",
              "  .colab-df-spinner {\n",
              "    border: 2px solid var(--fill-color);\n",
              "    border-color: transparent;\n",
              "    border-bottom-color: var(--fill-color);\n",
              "    animation:\n",
              "      spin 1s steps(1) infinite;\n",
              "  }\n",
              "\n",
              "  @keyframes spin {\n",
              "    0% {\n",
              "      border-color: transparent;\n",
              "      border-bottom-color: var(--fill-color);\n",
              "      border-left-color: var(--fill-color);\n",
              "    }\n",
              "    20% {\n",
              "      border-color: transparent;\n",
              "      border-left-color: var(--fill-color);\n",
              "      border-top-color: var(--fill-color);\n",
              "    }\n",
              "    30% {\n",
              "      border-color: transparent;\n",
              "      border-left-color: var(--fill-color);\n",
              "      border-top-color: var(--fill-color);\n",
              "      border-right-color: var(--fill-color);\n",
              "    }\n",
              "    40% {\n",
              "      border-color: transparent;\n",
              "      border-right-color: var(--fill-color);\n",
              "      border-top-color: var(--fill-color);\n",
              "    }\n",
              "    60% {\n",
              "      border-color: transparent;\n",
              "      border-right-color: var(--fill-color);\n",
              "    }\n",
              "    80% {\n",
              "      border-color: transparent;\n",
              "      border-right-color: var(--fill-color);\n",
              "      border-bottom-color: var(--fill-color);\n",
              "    }\n",
              "    90% {\n",
              "      border-color: transparent;\n",
              "      border-bottom-color: var(--fill-color);\n",
              "    }\n",
              "  }\n",
              "</style>\n",
              "\n",
              "  <script>\n",
              "    async function quickchart(key) {\n",
              "      const quickchartButtonEl =\n",
              "        document.querySelector('#' + key + ' button');\n",
              "      quickchartButtonEl.disabled = true;  // To prevent multiple clicks.\n",
              "      quickchartButtonEl.classList.add('colab-df-spinner');\n",
              "      try {\n",
              "        const charts = await google.colab.kernel.invokeFunction(\n",
              "            'suggestCharts', [key], {});\n",
              "      } catch (error) {\n",
              "        console.error('Error during call to suggestCharts:', error);\n",
              "      }\n",
              "      quickchartButtonEl.classList.remove('colab-df-spinner');\n",
              "      quickchartButtonEl.classList.add('colab-df-quickchart-complete');\n",
              "    }\n",
              "    (() => {\n",
              "      let quickchartButtonEl =\n",
              "        document.querySelector('#df-18a67604-a801-488d-ba7c-b672f23d122f button');\n",
              "      quickchartButtonEl.style.display =\n",
              "        google.colab.kernel.accessAllowed ? 'block' : 'none';\n",
              "    })();\n",
              "  </script>\n",
              "</div>\n",
              "\n",
              "    </div>\n",
              "  </div>\n"
            ],
            "text/plain": [
              "     similarity                                           document\n",
              "0      0.033378                                           Life 3.0\n",
              "1      0.052715                                      Consciousness\n",
              "2      0.131379                            AI in the Age of Reason\n",
              "3      0.069172                                      Deep Learning\n",
              "4      0.041889                               Statistical Learning\n",
              "..          ...                                                ...\n",
              "314    0.003836    Singularity, Superintelligence, and Immortality\n",
              "315    0.013679   Emotion AI, Social Robots, and Self-Driving Cars\n",
              "316    0.002737  Comedy, MADtv, AI, Friendship, Madness, and Pr...\n",
              "317    0.003851                                              Poker\n",
              "318    0.007999  Biology, Life, Aliens, Evolution, Embryogenesi...\n",
              "\n",
              "[319 rows x 2 columns]"
            ]
          },
          "execution_count": 163,
          "metadata": {},
          "output_type": "execute_result"
        }
      ],
      "source": [
        "# Ejecuta la función retrieve_tfidf con la consulta 'image'\n",
        "retrieve_tfidf('Artificial General')"
      ]
    },
    {
      "cell_type": "markdown",
      "id": "dUXbOYXmmiAW",
      "metadata": {
        "id": "dUXbOYXmmiAW"
      },
      "source": [
        "### Funcion retrieve BERT"
      ]
    },
    {
      "cell_type": "code",
      "execution_count": null,
      "id": "EZSu76FL-tMm",
      "metadata": {
        "id": "EZSu76FL-tMm"
      },
      "outputs": [],
      "source": [
        "def retrieve_bert(query):\n",
        "  # Genera embeddings BERT para la consulta\n",
        "  query_bert = generate_bert_embeddings(query)\n",
        "\n",
        "  # Calcula la similitud coseno entre corpus_bert y la consulta BERT\n",
        "  similarities = cosine_similarity(corpus_bert.reshape(319 ,768),query_bert.reshape(1,768))\n",
        "\n",
        "# Crea un DataFrame con las similitudes\n",
        "  similarities_df = pd.DataFrame(similarities, columns=['similarity'])\n",
        "\n",
        "  # Agrega los títulos de los episodios al DataFrame\n",
        "  similarities_df['document'] = df['title']\n",
        "\n",
        "  # Devuelve el DataFrame con las similitudes calculadas\n",
        "  return similarities_df"
      ]
    },
    {
      "cell_type": "code",
      "execution_count": 162,
      "id": "LUhUK_pd_Zt1",
      "metadata": {
        "colab": {
          "base_uri": "https://localhost:8080/",
          "height": 424
        },
        "id": "LUhUK_pd_Zt1",
        "outputId": "4ca587d8-77f2-4890-fe8d-6867e86cb1a1"
      },
      "outputs": [
        {
          "data": {
            "application/vnd.google.colaboratory.intrinsic+json": {
              "summary": "{\n  \"name\": \"retrieve_bert(['Artificial General'])\",\n  \"rows\": 319,\n  \"fields\": [\n    {\n      \"column\": \"similarity\",\n      \"properties\": {\n        \"dtype\": \"float32\",\n        \"num_unique_values\": 318,\n        \"samples\": [\n          0.6084895730018616,\n          0.6295608282089233,\n          0.6869089603424072\n        ],\n        \"semantic_type\": \"\",\n        \"description\": \"\"\n      }\n    },\n    {\n      \"column\": \"document\",\n      \"properties\": {\n        \"dtype\": \"string\",\n        \"num_unique_values\": 317,\n        \"samples\": [\n          \"Deep Learning, Education, and Real-World AI\",\n          \"Bad Vegan\",\n          \"Thousand Brains Theory of Intelligence\"\n        ],\n        \"semantic_type\": \"\",\n        \"description\": \"\"\n      }\n    }\n  ]\n}",
              "type": "dataframe"
            },
            "text/html": [
              "\n",
              "  <div id=\"df-38fa277c-f7b9-4fe2-9ef8-955377b5dc9b\" class=\"colab-df-container\">\n",
              "    <div>\n",
              "<style scoped>\n",
              "    .dataframe tbody tr th:only-of-type {\n",
              "        vertical-align: middle;\n",
              "    }\n",
              "\n",
              "    .dataframe tbody tr th {\n",
              "        vertical-align: top;\n",
              "    }\n",
              "\n",
              "    .dataframe thead th {\n",
              "        text-align: right;\n",
              "    }\n",
              "</style>\n",
              "<table border=\"1\" class=\"dataframe\">\n",
              "  <thead>\n",
              "    <tr style=\"text-align: right;\">\n",
              "      <th></th>\n",
              "      <th>similarity</th>\n",
              "      <th>document</th>\n",
              "    </tr>\n",
              "  </thead>\n",
              "  <tbody>\n",
              "    <tr>\n",
              "      <th>0</th>\n",
              "      <td>0.665738</td>\n",
              "      <td>Life 3.0</td>\n",
              "    </tr>\n",
              "    <tr>\n",
              "      <th>1</th>\n",
              "      <td>0.688087</td>\n",
              "      <td>Consciousness</td>\n",
              "    </tr>\n",
              "    <tr>\n",
              "      <th>2</th>\n",
              "      <td>0.662854</td>\n",
              "      <td>AI in the Age of Reason</td>\n",
              "    </tr>\n",
              "    <tr>\n",
              "      <th>3</th>\n",
              "      <td>0.572245</td>\n",
              "      <td>Deep Learning</td>\n",
              "    </tr>\n",
              "    <tr>\n",
              "      <th>4</th>\n",
              "      <td>0.685993</td>\n",
              "      <td>Statistical Learning</td>\n",
              "    </tr>\n",
              "    <tr>\n",
              "      <th>...</th>\n",
              "      <td>...</td>\n",
              "      <td>...</td>\n",
              "    </tr>\n",
              "    <tr>\n",
              "      <th>314</th>\n",
              "      <td>0.608068</td>\n",
              "      <td>Singularity, Superintelligence, and Immortality</td>\n",
              "    </tr>\n",
              "    <tr>\n",
              "      <th>315</th>\n",
              "      <td>0.622087</td>\n",
              "      <td>Emotion AI, Social Robots, and Self-Driving Cars</td>\n",
              "    </tr>\n",
              "    <tr>\n",
              "      <th>316</th>\n",
              "      <td>0.677050</td>\n",
              "      <td>Comedy, MADtv, AI, Friendship, Madness, and Pr...</td>\n",
              "    </tr>\n",
              "    <tr>\n",
              "      <th>317</th>\n",
              "      <td>0.672401</td>\n",
              "      <td>Poker</td>\n",
              "    </tr>\n",
              "    <tr>\n",
              "      <th>318</th>\n",
              "      <td>0.678051</td>\n",
              "      <td>Biology, Life, Aliens, Evolution, Embryogenesi...</td>\n",
              "    </tr>\n",
              "  </tbody>\n",
              "</table>\n",
              "<p>319 rows × 2 columns</p>\n",
              "</div>\n",
              "    <div class=\"colab-df-buttons\">\n",
              "\n",
              "  <div class=\"colab-df-container\">\n",
              "    <button class=\"colab-df-convert\" onclick=\"convertToInteractive('df-38fa277c-f7b9-4fe2-9ef8-955377b5dc9b')\"\n",
              "            title=\"Convert this dataframe to an interactive table.\"\n",
              "            style=\"display:none;\">\n",
              "\n",
              "  <svg xmlns=\"http://www.w3.org/2000/svg\" height=\"24px\" viewBox=\"0 -960 960 960\">\n",
              "    <path d=\"M120-120v-720h720v720H120Zm60-500h600v-160H180v160Zm220 220h160v-160H400v160Zm0 220h160v-160H400v160ZM180-400h160v-160H180v160Zm440 0h160v-160H620v160ZM180-180h160v-160H180v160Zm440 0h160v-160H620v160Z\"/>\n",
              "  </svg>\n",
              "    </button>\n",
              "\n",
              "  <style>\n",
              "    .colab-df-container {\n",
              "      display:flex;\n",
              "      gap: 12px;\n",
              "    }\n",
              "\n",
              "    .colab-df-convert {\n",
              "      background-color: #E8F0FE;\n",
              "      border: none;\n",
              "      border-radius: 50%;\n",
              "      cursor: pointer;\n",
              "      display: none;\n",
              "      fill: #1967D2;\n",
              "      height: 32px;\n",
              "      padding: 0 0 0 0;\n",
              "      width: 32px;\n",
              "    }\n",
              "\n",
              "    .colab-df-convert:hover {\n",
              "      background-color: #E2EBFA;\n",
              "      box-shadow: 0px 1px 2px rgba(60, 64, 67, 0.3), 0px 1px 3px 1px rgba(60, 64, 67, 0.15);\n",
              "      fill: #174EA6;\n",
              "    }\n",
              "\n",
              "    .colab-df-buttons div {\n",
              "      margin-bottom: 4px;\n",
              "    }\n",
              "\n",
              "    [theme=dark] .colab-df-convert {\n",
              "      background-color: #3B4455;\n",
              "      fill: #D2E3FC;\n",
              "    }\n",
              "\n",
              "    [theme=dark] .colab-df-convert:hover {\n",
              "      background-color: #434B5C;\n",
              "      box-shadow: 0px 1px 3px 1px rgba(0, 0, 0, 0.15);\n",
              "      filter: drop-shadow(0px 1px 2px rgba(0, 0, 0, 0.3));\n",
              "      fill: #FFFFFF;\n",
              "    }\n",
              "  </style>\n",
              "\n",
              "    <script>\n",
              "      const buttonEl =\n",
              "        document.querySelector('#df-38fa277c-f7b9-4fe2-9ef8-955377b5dc9b button.colab-df-convert');\n",
              "      buttonEl.style.display =\n",
              "        google.colab.kernel.accessAllowed ? 'block' : 'none';\n",
              "\n",
              "      async function convertToInteractive(key) {\n",
              "        const element = document.querySelector('#df-38fa277c-f7b9-4fe2-9ef8-955377b5dc9b');\n",
              "        const dataTable =\n",
              "          await google.colab.kernel.invokeFunction('convertToInteractive',\n",
              "                                                    [key], {});\n",
              "        if (!dataTable) return;\n",
              "\n",
              "        const docLinkHtml = 'Like what you see? Visit the ' +\n",
              "          '<a target=\"_blank\" href=https://colab.research.google.com/notebooks/data_table.ipynb>data table notebook</a>'\n",
              "          + ' to learn more about interactive tables.';\n",
              "        element.innerHTML = '';\n",
              "        dataTable['output_type'] = 'display_data';\n",
              "        await google.colab.output.renderOutput(dataTable, element);\n",
              "        const docLink = document.createElement('div');\n",
              "        docLink.innerHTML = docLinkHtml;\n",
              "        element.appendChild(docLink);\n",
              "      }\n",
              "    </script>\n",
              "  </div>\n",
              "\n",
              "\n",
              "<div id=\"df-057f4651-7792-45a0-baab-78c6849544b6\">\n",
              "  <button class=\"colab-df-quickchart\" onclick=\"quickchart('df-057f4651-7792-45a0-baab-78c6849544b6')\"\n",
              "            title=\"Suggest charts\"\n",
              "            style=\"display:none;\">\n",
              "\n",
              "<svg xmlns=\"http://www.w3.org/2000/svg\" height=\"24px\"viewBox=\"0 0 24 24\"\n",
              "     width=\"24px\">\n",
              "    <g>\n",
              "        <path d=\"M19 3H5c-1.1 0-2 .9-2 2v14c0 1.1.9 2 2 2h14c1.1 0 2-.9 2-2V5c0-1.1-.9-2-2-2zM9 17H7v-7h2v7zm4 0h-2V7h2v10zm4 0h-2v-4h2v4z\"/>\n",
              "    </g>\n",
              "</svg>\n",
              "  </button>\n",
              "\n",
              "<style>\n",
              "  .colab-df-quickchart {\n",
              "      --bg-color: #E8F0FE;\n",
              "      --fill-color: #1967D2;\n",
              "      --hover-bg-color: #E2EBFA;\n",
              "      --hover-fill-color: #174EA6;\n",
              "      --disabled-fill-color: #AAA;\n",
              "      --disabled-bg-color: #DDD;\n",
              "  }\n",
              "\n",
              "  [theme=dark] .colab-df-quickchart {\n",
              "      --bg-color: #3B4455;\n",
              "      --fill-color: #D2E3FC;\n",
              "      --hover-bg-color: #434B5C;\n",
              "      --hover-fill-color: #FFFFFF;\n",
              "      --disabled-bg-color: #3B4455;\n",
              "      --disabled-fill-color: #666;\n",
              "  }\n",
              "\n",
              "  .colab-df-quickchart {\n",
              "    background-color: var(--bg-color);\n",
              "    border: none;\n",
              "    border-radius: 50%;\n",
              "    cursor: pointer;\n",
              "    display: none;\n",
              "    fill: var(--fill-color);\n",
              "    height: 32px;\n",
              "    padding: 0;\n",
              "    width: 32px;\n",
              "  }\n",
              "\n",
              "  .colab-df-quickchart:hover {\n",
              "    background-color: var(--hover-bg-color);\n",
              "    box-shadow: 0 1px 2px rgba(60, 64, 67, 0.3), 0 1px 3px 1px rgba(60, 64, 67, 0.15);\n",
              "    fill: var(--button-hover-fill-color);\n",
              "  }\n",
              "\n",
              "  .colab-df-quickchart-complete:disabled,\n",
              "  .colab-df-quickchart-complete:disabled:hover {\n",
              "    background-color: var(--disabled-bg-color);\n",
              "    fill: var(--disabled-fill-color);\n",
              "    box-shadow: none;\n",
              "  }\n",
              "\n",
              "  .colab-df-spinner {\n",
              "    border: 2px solid var(--fill-color);\n",
              "    border-color: transparent;\n",
              "    border-bottom-color: var(--fill-color);\n",
              "    animation:\n",
              "      spin 1s steps(1) infinite;\n",
              "  }\n",
              "\n",
              "  @keyframes spin {\n",
              "    0% {\n",
              "      border-color: transparent;\n",
              "      border-bottom-color: var(--fill-color);\n",
              "      border-left-color: var(--fill-color);\n",
              "    }\n",
              "    20% {\n",
              "      border-color: transparent;\n",
              "      border-left-color: var(--fill-color);\n",
              "      border-top-color: var(--fill-color);\n",
              "    }\n",
              "    30% {\n",
              "      border-color: transparent;\n",
              "      border-left-color: var(--fill-color);\n",
              "      border-top-color: var(--fill-color);\n",
              "      border-right-color: var(--fill-color);\n",
              "    }\n",
              "    40% {\n",
              "      border-color: transparent;\n",
              "      border-right-color: var(--fill-color);\n",
              "      border-top-color: var(--fill-color);\n",
              "    }\n",
              "    60% {\n",
              "      border-color: transparent;\n",
              "      border-right-color: var(--fill-color);\n",
              "    }\n",
              "    80% {\n",
              "      border-color: transparent;\n",
              "      border-right-color: var(--fill-color);\n",
              "      border-bottom-color: var(--fill-color);\n",
              "    }\n",
              "    90% {\n",
              "      border-color: transparent;\n",
              "      border-bottom-color: var(--fill-color);\n",
              "    }\n",
              "  }\n",
              "</style>\n",
              "\n",
              "  <script>\n",
              "    async function quickchart(key) {\n",
              "      const quickchartButtonEl =\n",
              "        document.querySelector('#' + key + ' button');\n",
              "      quickchartButtonEl.disabled = true;  // To prevent multiple clicks.\n",
              "      quickchartButtonEl.classList.add('colab-df-spinner');\n",
              "      try {\n",
              "        const charts = await google.colab.kernel.invokeFunction(\n",
              "            'suggestCharts', [key], {});\n",
              "      } catch (error) {\n",
              "        console.error('Error during call to suggestCharts:', error);\n",
              "      }\n",
              "      quickchartButtonEl.classList.remove('colab-df-spinner');\n",
              "      quickchartButtonEl.classList.add('colab-df-quickchart-complete');\n",
              "    }\n",
              "    (() => {\n",
              "      let quickchartButtonEl =\n",
              "        document.querySelector('#df-057f4651-7792-45a0-baab-78c6849544b6 button');\n",
              "      quickchartButtonEl.style.display =\n",
              "        google.colab.kernel.accessAllowed ? 'block' : 'none';\n",
              "    })();\n",
              "  </script>\n",
              "</div>\n",
              "\n",
              "    </div>\n",
              "  </div>\n"
            ],
            "text/plain": [
              "     similarity                                           document\n",
              "0      0.665738                                           Life 3.0\n",
              "1      0.688087                                      Consciousness\n",
              "2      0.662854                            AI in the Age of Reason\n",
              "3      0.572245                                      Deep Learning\n",
              "4      0.685993                               Statistical Learning\n",
              "..          ...                                                ...\n",
              "314    0.608068    Singularity, Superintelligence, and Immortality\n",
              "315    0.622087   Emotion AI, Social Robots, and Self-Driving Cars\n",
              "316    0.677050  Comedy, MADtv, AI, Friendship, Madness, and Pr...\n",
              "317    0.672401                                              Poker\n",
              "318    0.678051  Biology, Life, Aliens, Evolution, Embryogenesi...\n",
              "\n",
              "[319 rows x 2 columns]"
            ]
          },
          "execution_count": 162,
          "metadata": {},
          "output_type": "execute_result"
        }
      ],
      "source": [
        "# Ejecuta la función retrieve_bert con la consulta ['Computer Science']\n",
        "retrieve_bert(['Artificial General'])"
      ]
    },
    {
      "cell_type": "markdown",
      "id": "FFQbESVPmpgK",
      "metadata": {
        "id": "FFQbESVPmpgK"
      },
      "source": [
        "# Step 7: Retrieve and Compare Results"
      ]
    },
    {
      "cell_type": "markdown",
      "id": "uONFxgi6mtUV",
      "metadata": {
        "id": "uONFxgi6mtUV"
      },
      "source": [
        "Define a function to retrieve the top results based on similarity scores for both TF-IDF and BERT representations."
      ]
    },
    {
      "cell_type": "code",
      "execution_count": null,
      "id": "K-nhZIVkv-Xt",
      "metadata": {
        "id": "K-nhZIVkv-Xt"
      },
      "outputs": [],
      "source": [
        "from sklearn.metrics.pairwise import cosine_similarity\n",
        "\n",
        "def process_query(query, tfidf_vectorizer, tfidf_matrix, bert_embeddings, tokenizer, model):\n",
        "\n",
        "    # TF-IDF\n",
        "    # Transforma la consulta usando el vectorizador TF-IDF\n",
        "    query_vector = tfidf_vectorizer.transform([query])\n",
        "\n",
        "    # Calcula la similitud coseno entre tfidf_matrix y la consulta transformada\n",
        "    tfidf_similarity = cosine_similarity(tfidf_matrix, query_vector)\n",
        "\n",
        "    # BERT\n",
        "    # Genera embeddings BERT para la consulta\n",
        "    query_embedding = generate_bert_embeddings([query])\n",
        "\n",
        "     # Calcula la similitud coseno entre los embeddings BERT y la consulta BERT\n",
        "    bert_similarity = cosine_similarity(bert_embeddings.reshape(len(bert_embeddings), -1), query_embedding.reshape(1, -1))\n",
        "\n",
        "\n",
        "   # Devuelve las similitudes calculadas para TF-IDF y BERT\n",
        "    return tfidf_similarity, bert_similarity\n",
        "\n"
      ]
    },
    {
      "cell_type": "markdown",
      "id": "B0stZQp_m1xY",
      "metadata": {
        "id": "B0stZQp_m1xY"
      },
      "source": [
        "#Step 8: Test the IR System"
      ]
    },
    {
      "cell_type": "markdown",
      "id": "Q47TdIovm4fP",
      "metadata": {
        "id": "Q47TdIovm4fP"
      },
      "source": [
        "Test the system with a sample query"
      ]
    },
    {
      "cell_type": "code",
      "execution_count": null,
      "id": "DBuuZSnoq6Wv",
      "metadata": {
        "id": "DBuuZSnoq6Wv"
      },
      "outputs": [],
      "source": [
        "def retrieve_top_results(similarity_scores, top_n=5):\n",
        "\n",
        "   # Obtiene los índices de los documentos con las mayores similitudes\n",
        "    top_indices = similarity_scores.argsort()[0][-top_n:][::-1]\n",
        "\n",
        "    # Devuelve los índices de los documentos más similares\n",
        "    return top_indices"
      ]
    },
    {
      "cell_type": "code",
      "execution_count": null,
      "id": "KN8sJyEjq6Up",
      "metadata": {
        "id": "KN8sJyEjq6Up"
      },
      "outputs": [],
      "source": [
        "def display_results(indices, df, similarities):\n",
        "    for index in indices:\n",
        "\n",
        "      # Imprime el título del episodio\n",
        "        print(f\"Episode: {df.iloc[index]['title']}\")\n",
        "\n",
        "        # Imprime la similitud del episodio\n",
        "        print(f\"Similarity: {similarities[0][index]:.4f}\")\n",
        "\n",
        "         # Imprime los primeros 200 caracteres del texto del episodio\n",
        "        print(f\"Transcript: {df.iloc[index]['text'][:200]}...\")  # Display the first 200 characters\n",
        "        print(\"\\n\")\n"
      ]
    },
    {
      "cell_type": "code",
      "execution_count": 164,
      "id": "qVxhgE0kq6Q_",
      "metadata": {
        "id": "qVxhgE0kq6Q_"
      },
      "outputs": [],
      "source": [
        "#Definiendo la query\n",
        "query = \"So the army of the good in terms of the development of technology is large\""
      ]
    },
    {
      "cell_type": "code",
      "execution_count": 165,
      "id": "pTk6xkJptsy6",
      "metadata": {
        "id": "pTk6xkJptsy6"
      },
      "outputs": [],
      "source": [
        "# Procesando la query con TF-IDF y BERT\n",
        "tfidf_similarity, bert_similarity = process_query(query, vectorizer, tfidf_mtx, corpus_bert, tokenizer, model)\n"
      ]
    },
    {
      "cell_type": "code",
      "execution_count": 166,
      "id": "kO6rTyXfnGgf",
      "metadata": {
        "id": "kO6rTyXfnGgf"
      },
      "outputs": [],
      "source": [
        "# Recuperar los resultados principales\n",
        "tfidf_top_indices = retrieve_top_results(tfidf_similarity)\n",
        "bert_top_indices = retrieve_top_results(bert_similarity)\n",
        "\n"
      ]
    },
    {
      "cell_type": "code",
      "execution_count": 167,
      "id": "k8BXh1ELwZcU",
      "metadata": {
        "colab": {
          "base_uri": "https://localhost:8080/"
        },
        "id": "k8BXh1ELwZcU",
        "outputId": "0b555a69-bf54-4027-f70a-4ba2c39c2556"
      },
      "outputs": [
        {
          "name": "stdout",
          "output_type": "stream",
          "text": [
            "TF-IDF Results:\n",
            "Episode: Life 3.0\n",
            "Similarity: 0.0044\n",
            "Transcript: As part of MIT course 6S099, Artificial General Intelligence, I've gotten the chance to sit down with Max Tegmark. He is a professor here at MIT. He's a physicist, spent a large part of his career stu...\n",
            "\n",
            "\n",
            "BERT Results:\n",
            "Episode: Life 3.0\n",
            "Similarity: 0.7204\n",
            "Transcript: As part of MIT course 6S099, Artificial General Intelligence, I've gotten the chance to sit down with Max Tegmark. He is a professor here at MIT. He's a physicist, spent a large part of his career stu...\n",
            "\n",
            "\n"
          ]
        }
      ],
      "source": [
        "# Mostrar los resultados\n",
        "print(\"TF-IDF Results:\")\n",
        "display_results(tfidf_top_indices, df, tfidf_similarity)\n",
        "\n",
        "print(\"BERT Results:\")\n",
        "display_results(bert_top_indices, df, bert_similarity)\n"
      ]
    },
    {
      "cell_type": "markdown",
      "id": "07HoZliBnJND",
      "metadata": {
        "id": "07HoZliBnJND"
      },
      "source": [
        "Retrieve and display the top results using both TF-IDF and BERT representations."
      ]
    },
    {
      "cell_type": "markdown",
      "id": "wMM0kvDLnLYC",
      "metadata": {
        "id": "wMM0kvDLnLYC"
      },
      "source": [
        "#Step 9: Compare Results"
      ]
    },
    {
      "cell_type": "markdown",
      "id": "hTCDWWQznNL1",
      "metadata": {
        "id": "hTCDWWQznNL1"
      },
      "source": [
        "Analyze and compare the results obtained from TF-IDF and BERT representations.\n",
        "\n",
        "Discuss the differences, strengths, and weaknesses of each method based on the retrieval results."
      ]
    },
    {
      "cell_type": "markdown",
      "id": "ajovkzku0yhP",
      "metadata": {
        "id": "ajovkzku0yhP"
      },
      "source": [
        "- Resultados del analisis y comparacion\n",
        "  - TFIDF\n",
        "    - Similitud: 0.0044\n",
        "    - Transcripción: Episodio \"Life 3.0\"\n",
        "    - Observación: La similitud obtenida es bastante baja. Esto se debe a que TF-IDF se basa en la coincidencia exacta de palabras clave, lo que no captura adecuadamente el contexto o el significado semántico de la consulta en relación con el texto del episodio.\n",
        "\n",
        "  - BERT\n",
        "    - Similitud: 0.7204\n",
        "    - Transcripción: Episodio \"Life 3.0\"\n",
        "    - Observación: La similitud es significativamente mayor. Esto indica que BERT puede capturar mejor el contexto y las relaciones semánticas entre las palabras, proporcionando una mayor precisión en la recuperación de información.\n",
        "\n",
        "En conclusión, BERT es  mejor que TF-IDF para recuperar la información relevante. Mientras TF-IDF tiene una similitud muy baja (0.0044) porque solo busca coincidencias exactas de palabras, BERT, con una similitud mucho mayor (0.7204), entiende mejor el contexto y el significado, haciendo que los resultados sean  más precisos\n",
        "\n",
        "\n",
        "\n"
      ]
    }
  ],
  "metadata": {
    "colab": {
      "provenance": []
    },
    "kernelspec": {
      "display_name": "Python 3",
      "language": "python",
      "name": "python3"
    },
    "language_info": {
      "codemirror_mode": {
        "name": "ipython",
        "version": 2
      },
      "file_extension": ".py",
      "mimetype": "text/x-python",
      "name": "python",
      "nbconvert_exporter": "python",
      "pygments_lexer": "ipython2",
      "version": "2.7.6"
    }
  },
  "nbformat": 4,
  "nbformat_minor": 5
}
